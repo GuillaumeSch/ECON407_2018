{
 "cells": [
  {
   "cell_type": "markdown",
   "metadata": {},
   "source": [
    "## Higher order functions"
   ]
  },
  {
   "cell_type": "code",
   "execution_count": 1,
   "metadata": {},
   "outputs": [
    {
     "data": {
      "text/plain": [
       "twice (generic function with 1 method)"
      ]
     },
     "execution_count": 1,
     "metadata": {},
     "output_type": "execute_result"
    }
   ],
   "source": [
    "twice(f,x) = f(f(x))"
   ]
  },
  {
   "cell_type": "code",
   "execution_count": 2,
   "metadata": {},
   "outputs": [
    {
     "data": {
      "text/plain": [
       "16.0"
      ]
     },
     "execution_count": 2,
     "metadata": {},
     "output_type": "execute_result"
    }
   ],
   "source": [
    "f(x) = x^2\n",
    "twice(f, 2.0)\n",
    "twice(x -> x^2, 2.0) #Anonymous function"
   ]
  },
  {
   "cell_type": "markdown",
   "metadata": {},
   "source": [
    "## Array Comprehensions and Broadcasting"
   ]
  },
  {
   "cell_type": "code",
   "execution_count": 3,
   "metadata": {},
   "outputs": [
    {
     "data": {
      "text/plain": [
       "5×1 Array{Float64,2}:\n",
       "  1.0\n",
       "  4.0\n",
       "  9.0\n",
       " 16.0\n",
       " 25.0"
      ]
     },
     "execution_count": 3,
     "metadata": {},
     "output_type": "execute_result"
    }
   ],
   "source": [
    "y = ones(5,1)\n",
    "for i in 1:5\n",
    "    y[i] = f(i)\n",
    "end\n",
    "y"
   ]
  },
  {
   "cell_type": "code",
   "execution_count": 4,
   "metadata": {},
   "outputs": [
    {
     "data": {
      "text/plain": [
       "5-element Array{Int64,1}:\n",
       "  1\n",
       "  4\n",
       "  9\n",
       " 16\n",
       " 25"
      ]
     },
     "execution_count": 4,
     "metadata": {},
     "output_type": "execute_result"
    }
   ],
   "source": [
    "f.(1:5) #Broadcast"
   ]
  },
  {
   "cell_type": "code",
   "execution_count": 5,
   "metadata": {},
   "outputs": [
    {
     "data": {
      "text/plain": [
       "5-element Array{Int64,1}:\n",
       "  1\n",
       "  4\n",
       "  9\n",
       " 16\n",
       " 25"
      ]
     },
     "execution_count": 5,
     "metadata": {},
     "output_type": "execute_result"
    }
   ],
   "source": [
    "[f(x) for x in 1:5] #comprehension"
   ]
  },
  {
   "cell_type": "code",
   "execution_count": 6,
   "metadata": {},
   "outputs": [
    {
     "data": {
      "text/plain": [
       "5×5 Array{Tuple{Int64,Int64},2}:\n",
       " (2, 1)  (3, 2)   (4, 3)   (5, 4)   (6, 5)  \n",
       " (3, 2)  (4, 4)   (5, 6)   (6, 8)   (7, 10) \n",
       " (4, 3)  (5, 6)   (6, 9)   (7, 12)  (8, 15) \n",
       " (5, 4)  (6, 8)   (7, 12)  (8, 16)  (9, 20) \n",
       " (6, 5)  (7, 10)  (8, 15)  (9, 20)  (10, 25)"
      ]
     },
     "execution_count": 6,
     "metadata": {},
     "output_type": "execute_result"
    }
   ],
   "source": [
    "[(x + y, x*y) for x in 1:5, y in 1:5] #Make a multiplication and addition table"
   ]
  },
  {
   "cell_type": "markdown",
   "metadata": {},
   "source": [
    "## Matrices and Dot Products"
   ]
  },
  {
   "cell_type": "code",
   "execution_count": 7,
   "metadata": {},
   "outputs": [
    {
     "data": {
      "text/plain": [
       "1-element Array{Float64,1}:\n",
       " 8.0"
      ]
     },
     "execution_count": 7,
     "metadata": {},
     "output_type": "execute_result"
    }
   ],
   "source": [
    "[1.0 2.0] * [2.0; 3.0] #Returns an array"
   ]
  },
  {
   "cell_type": "code",
   "execution_count": 8,
   "metadata": {},
   "outputs": [
    {
     "data": {
      "text/plain": [
       "8.0"
      ]
     },
     "execution_count": 8,
     "metadata": {},
     "output_type": "execute_result"
    }
   ],
   "source": [
    "dot([1.0 2.0],[2.0; 3.0]) #Returns the dot product"
   ]
  },
  {
   "cell_type": "code",
   "execution_count": 9,
   "metadata": {},
   "outputs": [
    {
     "data": {
      "text/plain": [
       "8.0"
      ]
     },
     "execution_count": 9,
     "metadata": {},
     "output_type": "execute_result"
    }
   ],
   "source": [
    "#Can use the \\cdot <tab> to create the dot product\n",
    "[1.0 2.0] ⋅ [2.0; 3.0]"
   ]
  },
  {
   "cell_type": "code",
   "execution_count": 10,
   "metadata": {},
   "outputs": [
    {
     "data": {
      "text/html": [
       "<?xml version=\"1.0\" encoding=\"utf-8\"?>\n",
       "<svg xmlns=\"http://www.w3.org/2000/svg\" xmlns:xlink=\"http://www.w3.org/1999/xlink\" width=\"600\" height=\"400\" viewBox=\"0 0 600 400\">\n",
       "<defs>\n",
       "  <clipPath id=\"clip8800\">\n",
       "    <rect x=\"0\" y=\"0\" width=\"600\" height=\"400\"/>\n",
       "  </clipPath>\n",
       "</defs>\n",
       "<polygon clip-path=\"url(#clip8800)\" points=\"\n",
       "0,400 600,400 600,0 0,0 \n",
       "  \" fill=\"#ffffff\" fill-opacity=\"1\"/>\n",
       "<defs>\n",
       "  <clipPath id=\"clip8801\">\n",
       "    <rect x=\"120\" y=\"0\" width=\"421\" height=\"400\"/>\n",
       "  </clipPath>\n",
       "</defs>\n",
       "<polygon clip-path=\"url(#clip8800)\" points=\"\n",
       "39.1651,375.869 580.315,375.869 580.315,11.811 39.1651,11.811 \n",
       "  \" fill=\"#ffffff\" fill-opacity=\"1\"/>\n",
       "<defs>\n",
       "  <clipPath id=\"clip8802\">\n",
       "    <rect x=\"39\" y=\"11\" width=\"542\" height=\"365\"/>\n",
       "  </clipPath>\n",
       "</defs>\n",
       "<polyline clip-path=\"url(#clip8802)\" style=\"stroke:#000000; stroke-width:0.5; stroke-opacity:0.1; fill:none\" points=\"\n",
       "  39.1651,375.869 39.1651,11.811 \n",
       "  \"/>\n",
       "<polyline clip-path=\"url(#clip8802)\" style=\"stroke:#000000; stroke-width:0.5; stroke-opacity:0.1; fill:none\" points=\"\n",
       "  174.453,375.869 174.453,11.811 \n",
       "  \"/>\n",
       "<polyline clip-path=\"url(#clip8802)\" style=\"stroke:#000000; stroke-width:0.5; stroke-opacity:0.1; fill:none\" points=\"\n",
       "  309.74,375.869 309.74,11.811 \n",
       "  \"/>\n",
       "<polyline clip-path=\"url(#clip8802)\" style=\"stroke:#000000; stroke-width:0.5; stroke-opacity:0.1; fill:none\" points=\"\n",
       "  445.027,375.869 445.027,11.811 \n",
       "  \"/>\n",
       "<polyline clip-path=\"url(#clip8802)\" style=\"stroke:#000000; stroke-width:0.5; stroke-opacity:0.1; fill:none\" points=\"\n",
       "  580.315,375.869 580.315,11.811 \n",
       "  \"/>\n",
       "<polyline clip-path=\"url(#clip8802)\" style=\"stroke:#000000; stroke-width:0.5; stroke-opacity:0.1; fill:none\" points=\"\n",
       "  39.1651,362.082 580.315,362.082 \n",
       "  \"/>\n",
       "<polyline clip-path=\"url(#clip8802)\" style=\"stroke:#000000; stroke-width:0.5; stroke-opacity:0.1; fill:none\" points=\"\n",
       "  39.1651,292.028 580.315,292.028 \n",
       "  \"/>\n",
       "<polyline clip-path=\"url(#clip8802)\" style=\"stroke:#000000; stroke-width:0.5; stroke-opacity:0.1; fill:none\" points=\"\n",
       "  39.1651,221.974 580.315,221.974 \n",
       "  \"/>\n",
       "<polyline clip-path=\"url(#clip8802)\" style=\"stroke:#000000; stroke-width:0.5; stroke-opacity:0.1; fill:none\" points=\"\n",
       "  39.1651,151.919 580.315,151.919 \n",
       "  \"/>\n",
       "<polyline clip-path=\"url(#clip8802)\" style=\"stroke:#000000; stroke-width:0.5; stroke-opacity:0.1; fill:none\" points=\"\n",
       "  39.1651,81.8652 580.315,81.8652 \n",
       "  \"/>\n",
       "<polyline clip-path=\"url(#clip8800)\" style=\"stroke:#000000; stroke-width:1; stroke-opacity:1; fill:none\" points=\"\n",
       "  39.1651,375.869 580.315,375.869 \n",
       "  \"/>\n",
       "<polyline clip-path=\"url(#clip8800)\" style=\"stroke:#000000; stroke-width:1; stroke-opacity:1; fill:none\" points=\"\n",
       "  39.1651,375.869 39.1651,11.811 \n",
       "  \"/>\n",
       "<polyline clip-path=\"url(#clip8800)\" style=\"stroke:#000000; stroke-width:1; stroke-opacity:1; fill:none\" points=\"\n",
       "  39.1651,375.869 39.1651,370.408 \n",
       "  \"/>\n",
       "<polyline clip-path=\"url(#clip8800)\" style=\"stroke:#000000; stroke-width:1; stroke-opacity:1; fill:none\" points=\"\n",
       "  174.453,375.869 174.453,370.408 \n",
       "  \"/>\n",
       "<polyline clip-path=\"url(#clip8800)\" style=\"stroke:#000000; stroke-width:1; stroke-opacity:1; fill:none\" points=\"\n",
       "  309.74,375.869 309.74,370.408 \n",
       "  \"/>\n",
       "<polyline clip-path=\"url(#clip8800)\" style=\"stroke:#000000; stroke-width:1; stroke-opacity:1; fill:none\" points=\"\n",
       "  445.027,375.869 445.027,370.408 \n",
       "  \"/>\n",
       "<polyline clip-path=\"url(#clip8800)\" style=\"stroke:#000000; stroke-width:1; stroke-opacity:1; fill:none\" points=\"\n",
       "  580.315,375.869 580.315,370.408 \n",
       "  \"/>\n",
       "<polyline clip-path=\"url(#clip8800)\" style=\"stroke:#000000; stroke-width:1; stroke-opacity:1; fill:none\" points=\"\n",
       "  39.1651,362.082 47.2823,362.082 \n",
       "  \"/>\n",
       "<polyline clip-path=\"url(#clip8800)\" style=\"stroke:#000000; stroke-width:1; stroke-opacity:1; fill:none\" points=\"\n",
       "  39.1651,292.028 47.2823,292.028 \n",
       "  \"/>\n",
       "<polyline clip-path=\"url(#clip8800)\" style=\"stroke:#000000; stroke-width:1; stroke-opacity:1; fill:none\" points=\"\n",
       "  39.1651,221.974 47.2823,221.974 \n",
       "  \"/>\n",
       "<polyline clip-path=\"url(#clip8800)\" style=\"stroke:#000000; stroke-width:1; stroke-opacity:1; fill:none\" points=\"\n",
       "  39.1651,151.919 47.2823,151.919 \n",
       "  \"/>\n",
       "<polyline clip-path=\"url(#clip8800)\" style=\"stroke:#000000; stroke-width:1; stroke-opacity:1; fill:none\" points=\"\n",
       "  39.1651,81.8652 47.2823,81.8652 \n",
       "  \"/>\n",
       "<g clip-path=\"url(#clip8800)\">\n",
       "<text style=\"fill:#000000; fill-opacity:1; font-family:Arial,Helvetica Neue,Helvetica,sans-serif; font-size:12; text-anchor:middle;\" transform=\"rotate(0, 39.1651, 389.669)\" x=\"39.1651\" y=\"389.669\">1</text>\n",
       "</g>\n",
       "<g clip-path=\"url(#clip8800)\">\n",
       "<text style=\"fill:#000000; fill-opacity:1; font-family:Arial,Helvetica Neue,Helvetica,sans-serif; font-size:12; text-anchor:middle;\" transform=\"rotate(0, 174.453, 389.669)\" x=\"174.453\" y=\"389.669\">2</text>\n",
       "</g>\n",
       "<g clip-path=\"url(#clip8800)\">\n",
       "<text style=\"fill:#000000; fill-opacity:1; font-family:Arial,Helvetica Neue,Helvetica,sans-serif; font-size:12; text-anchor:middle;\" transform=\"rotate(0, 309.74, 389.669)\" x=\"309.74\" y=\"389.669\">3</text>\n",
       "</g>\n",
       "<g clip-path=\"url(#clip8800)\">\n",
       "<text style=\"fill:#000000; fill-opacity:1; font-family:Arial,Helvetica Neue,Helvetica,sans-serif; font-size:12; text-anchor:middle;\" transform=\"rotate(0, 445.027, 389.669)\" x=\"445.027\" y=\"389.669\">4</text>\n",
       "</g>\n",
       "<g clip-path=\"url(#clip8800)\">\n",
       "<text style=\"fill:#000000; fill-opacity:1; font-family:Arial,Helvetica Neue,Helvetica,sans-serif; font-size:12; text-anchor:middle;\" transform=\"rotate(0, 580.315, 389.669)\" x=\"580.315\" y=\"389.669\">5</text>\n",
       "</g>\n",
       "<g clip-path=\"url(#clip8800)\">\n",
       "<text style=\"fill:#000000; fill-opacity:1; font-family:Arial,Helvetica Neue,Helvetica,sans-serif; font-size:12; text-anchor:end;\" transform=\"rotate(0, 33.1651, 366.582)\" x=\"33.1651\" y=\"366.582\">0.35</text>\n",
       "</g>\n",
       "<g clip-path=\"url(#clip8800)\">\n",
       "<text style=\"fill:#000000; fill-opacity:1; font-family:Arial,Helvetica Neue,Helvetica,sans-serif; font-size:12; text-anchor:end;\" transform=\"rotate(0, 33.1651, 296.528)\" x=\"33.1651\" y=\"296.528\">0.40</text>\n",
       "</g>\n",
       "<g clip-path=\"url(#clip8800)\">\n",
       "<text style=\"fill:#000000; fill-opacity:1; font-family:Arial,Helvetica Neue,Helvetica,sans-serif; font-size:12; text-anchor:end;\" transform=\"rotate(0, 33.1651, 226.474)\" x=\"33.1651\" y=\"226.474\">0.45</text>\n",
       "</g>\n",
       "<g clip-path=\"url(#clip8800)\">\n",
       "<text style=\"fill:#000000; fill-opacity:1; font-family:Arial,Helvetica Neue,Helvetica,sans-serif; font-size:12; text-anchor:end;\" transform=\"rotate(0, 33.1651, 156.419)\" x=\"33.1651\" y=\"156.419\">0.50</text>\n",
       "</g>\n",
       "<g clip-path=\"url(#clip8800)\">\n",
       "<text style=\"fill:#000000; fill-opacity:1; font-family:Arial,Helvetica Neue,Helvetica,sans-serif; font-size:12; text-anchor:end;\" transform=\"rotate(0, 33.1651, 86.3652)\" x=\"33.1651\" y=\"86.3652\">0.55</text>\n",
       "</g>\n",
       "<polyline clip-path=\"url(#clip8802)\" style=\"stroke:#009af9; stroke-width:1; stroke-opacity:1; fill:none\" points=\"\n",
       "  39.1651,11.811 174.453,235.984 309.74,325.654 445.027,361.522 580.315,375.869 \n",
       "  \"/>\n",
       "<polygon clip-path=\"url(#clip8800)\" points=\"\n",
       "489.608,62.931 562.315,62.931 562.315,32.691 489.608,32.691 \n",
       "  \" fill=\"#ffffff\" fill-opacity=\"1\"/>\n",
       "<polyline clip-path=\"url(#clip8800)\" style=\"stroke:#000000; stroke-width:1; stroke-opacity:1; fill:none\" points=\"\n",
       "  489.608,62.931 562.315,62.931 562.315,32.691 489.608,32.691 489.608,62.931 \n",
       "  \"/>\n",
       "<polyline clip-path=\"url(#clip8800)\" style=\"stroke:#009af9; stroke-width:1; stroke-opacity:1; fill:none\" points=\"\n",
       "  495.608,47.811 531.608,47.811 \n",
       "  \"/>\n",
       "<g clip-path=\"url(#clip8800)\">\n",
       "<text style=\"fill:#000000; fill-opacity:1; font-family:Arial,Helvetica Neue,Helvetica,sans-serif; font-size:12; text-anchor:start;\" transform=\"rotate(0, 537.608, 52.311)\" x=\"537.608\" y=\"52.311\">y1</text>\n",
       "</g>\n",
       "</svg>\n"
      ]
     },
     "execution_count": 10,
     "metadata": {},
     "output_type": "execute_result"
    }
   ],
   "source": [
    "P = [0.6 .4; .2 .8];\n",
    "ϕ0 = [1.0 0];\n",
    "\n",
    "#Calculate the transition dynamics of the markov chain\n",
    "ϕt = [ϕ0 * P^j for j in 0:5]\n",
    "\n",
    "#Plot \n",
    "using Plots\n",
    "gr()\n",
    "plot([ϕt[j][1] for j in 1:6]) #Gets the first one.\n",
    "# or could combine in a comprehension\n",
    "plot([ [1.0;0.0] ⋅ (ϕ0 * P^j) for j in 1:5])"
   ]
  },
  {
   "cell_type": "markdown",
   "metadata": {},
   "source": [
    "## Interpolation"
   ]
  },
  {
   "cell_type": "code",
   "execution_count": 11,
   "metadata": {},
   "outputs": [
    {
     "data": {
      "text/plain": [
       "5-element Array{Float64,1}:\n",
       " 0.0   \n",
       " 0.0625\n",
       " 0.25  \n",
       " 0.5625\n",
       " 1.0   "
      ]
     },
     "execution_count": 11,
     "metadata": {},
     "output_type": "execute_result"
    }
   ],
   "source": [
    "using QuantEcon\n",
    "n = 5\n",
    "xvalues = linspace(0.0, 1.0, n) #grid over values.\n",
    "f_raw(x) = x^2\n",
    "yvalues = f_raw.(xvalues)"
   ]
  },
  {
   "cell_type": "code",
   "execution_count": 12,
   "metadata": {},
   "outputs": [
    {
     "data": {
      "text/plain": [
       "3-element Array{Float64,1}:\n",
       " 0.0525\n",
       " 0.1375\n",
       " 0.25  "
      ]
     },
     "execution_count": 12,
     "metadata": {},
     "output_type": "execute_result"
    }
   ],
   "source": [
    "f_int = LinInterp(xvalues, yvalues) #Creates a \"function\" which interpolates that data\n",
    "f_int(0.2)\n",
    "f_int.([0.21, 0.35, 0.5])"
   ]
  },
  {
   "cell_type": "code",
   "execution_count": 13,
   "metadata": {},
   "outputs": [
    {
     "data": {
      "text/html": [
       "<?xml version=\"1.0\" encoding=\"utf-8\"?>\n",
       "<svg xmlns=\"http://www.w3.org/2000/svg\" xmlns:xlink=\"http://www.w3.org/1999/xlink\" width=\"600\" height=\"400\" viewBox=\"0 0 600 400\">\n",
       "<defs>\n",
       "  <clipPath id=\"clip9000\">\n",
       "    <rect x=\"0\" y=\"0\" width=\"600\" height=\"400\"/>\n",
       "  </clipPath>\n",
       "</defs>\n",
       "<polygon clip-path=\"url(#clip9000)\" points=\"\n",
       "0,400 600,400 600,0 0,0 \n",
       "  \" fill=\"#ffffff\" fill-opacity=\"1\"/>\n",
       "<defs>\n",
       "  <clipPath id=\"clip9001\">\n",
       "    <rect x=\"120\" y=\"0\" width=\"421\" height=\"400\"/>\n",
       "  </clipPath>\n",
       "</defs>\n",
       "<polygon clip-path=\"url(#clip9000)\" points=\"\n",
       "32.4745,375.869 580.315,375.869 580.315,11.811 32.4745,11.811 \n",
       "  \" fill=\"#ffffff\" fill-opacity=\"1\"/>\n",
       "<defs>\n",
       "  <clipPath id=\"clip9002\">\n",
       "    <rect x=\"32\" y=\"11\" width=\"549\" height=\"365\"/>\n",
       "  </clipPath>\n",
       "</defs>\n",
       "<polyline clip-path=\"url(#clip9002)\" style=\"stroke:#000000; stroke-width:0.5; stroke-opacity:0.1; fill:none\" points=\"\n",
       "  32.4745,375.869 32.4745,11.811 \n",
       "  \"/>\n",
       "<polyline clip-path=\"url(#clip9002)\" style=\"stroke:#000000; stroke-width:0.5; stroke-opacity:0.1; fill:none\" points=\"\n",
       "  142.043,375.869 142.043,11.811 \n",
       "  \"/>\n",
       "<polyline clip-path=\"url(#clip9002)\" style=\"stroke:#000000; stroke-width:0.5; stroke-opacity:0.1; fill:none\" points=\"\n",
       "  251.611,375.869 251.611,11.811 \n",
       "  \"/>\n",
       "<polyline clip-path=\"url(#clip9002)\" style=\"stroke:#000000; stroke-width:0.5; stroke-opacity:0.1; fill:none\" points=\"\n",
       "  361.179,375.869 361.179,11.811 \n",
       "  \"/>\n",
       "<polyline clip-path=\"url(#clip9002)\" style=\"stroke:#000000; stroke-width:0.5; stroke-opacity:0.1; fill:none\" points=\"\n",
       "  470.747,375.869 470.747,11.811 \n",
       "  \"/>\n",
       "<polyline clip-path=\"url(#clip9002)\" style=\"stroke:#000000; stroke-width:0.5; stroke-opacity:0.1; fill:none\" points=\"\n",
       "  580.315,375.869 580.315,11.811 \n",
       "  \"/>\n",
       "<polyline clip-path=\"url(#clip9002)\" style=\"stroke:#000000; stroke-width:0.5; stroke-opacity:0.1; fill:none\" points=\"\n",
       "  32.4745,375.869 580.315,375.869 \n",
       "  \"/>\n",
       "<polyline clip-path=\"url(#clip9002)\" style=\"stroke:#000000; stroke-width:0.5; stroke-opacity:0.1; fill:none\" points=\"\n",
       "  32.4745,303.057 580.315,303.057 \n",
       "  \"/>\n",
       "<polyline clip-path=\"url(#clip9002)\" style=\"stroke:#000000; stroke-width:0.5; stroke-opacity:0.1; fill:none\" points=\"\n",
       "  32.4745,230.246 580.315,230.246 \n",
       "  \"/>\n",
       "<polyline clip-path=\"url(#clip9002)\" style=\"stroke:#000000; stroke-width:0.5; stroke-opacity:0.1; fill:none\" points=\"\n",
       "  32.4745,157.434 580.315,157.434 \n",
       "  \"/>\n",
       "<polyline clip-path=\"url(#clip9002)\" style=\"stroke:#000000; stroke-width:0.5; stroke-opacity:0.1; fill:none\" points=\"\n",
       "  32.4745,84.6226 580.315,84.6226 \n",
       "  \"/>\n",
       "<polyline clip-path=\"url(#clip9002)\" style=\"stroke:#000000; stroke-width:0.5; stroke-opacity:0.1; fill:none\" points=\"\n",
       "  32.4745,11.811 580.315,11.811 \n",
       "  \"/>\n",
       "<polyline clip-path=\"url(#clip9000)\" style=\"stroke:#000000; stroke-width:1; stroke-opacity:1; fill:none\" points=\"\n",
       "  32.4745,375.869 580.315,375.869 \n",
       "  \"/>\n",
       "<polyline clip-path=\"url(#clip9000)\" style=\"stroke:#000000; stroke-width:1; stroke-opacity:1; fill:none\" points=\"\n",
       "  32.4745,375.869 32.4745,11.811 \n",
       "  \"/>\n",
       "<polyline clip-path=\"url(#clip9000)\" style=\"stroke:#000000; stroke-width:1; stroke-opacity:1; fill:none\" points=\"\n",
       "  32.4745,375.869 32.4745,370.408 \n",
       "  \"/>\n",
       "<polyline clip-path=\"url(#clip9000)\" style=\"stroke:#000000; stroke-width:1; stroke-opacity:1; fill:none\" points=\"\n",
       "  142.043,375.869 142.043,370.408 \n",
       "  \"/>\n",
       "<polyline clip-path=\"url(#clip9000)\" style=\"stroke:#000000; stroke-width:1; stroke-opacity:1; fill:none\" points=\"\n",
       "  251.611,375.869 251.611,370.408 \n",
       "  \"/>\n",
       "<polyline clip-path=\"url(#clip9000)\" style=\"stroke:#000000; stroke-width:1; stroke-opacity:1; fill:none\" points=\"\n",
       "  361.179,375.869 361.179,370.408 \n",
       "  \"/>\n",
       "<polyline clip-path=\"url(#clip9000)\" style=\"stroke:#000000; stroke-width:1; stroke-opacity:1; fill:none\" points=\"\n",
       "  470.747,375.869 470.747,370.408 \n",
       "  \"/>\n",
       "<polyline clip-path=\"url(#clip9000)\" style=\"stroke:#000000; stroke-width:1; stroke-opacity:1; fill:none\" points=\"\n",
       "  580.315,375.869 580.315,370.408 \n",
       "  \"/>\n",
       "<polyline clip-path=\"url(#clip9000)\" style=\"stroke:#000000; stroke-width:1; stroke-opacity:1; fill:none\" points=\"\n",
       "  32.4745,375.869 40.6921,375.869 \n",
       "  \"/>\n",
       "<polyline clip-path=\"url(#clip9000)\" style=\"stroke:#000000; stroke-width:1; stroke-opacity:1; fill:none\" points=\"\n",
       "  32.4745,303.057 40.6921,303.057 \n",
       "  \"/>\n",
       "<polyline clip-path=\"url(#clip9000)\" style=\"stroke:#000000; stroke-width:1; stroke-opacity:1; fill:none\" points=\"\n",
       "  32.4745,230.246 40.6921,230.246 \n",
       "  \"/>\n",
       "<polyline clip-path=\"url(#clip9000)\" style=\"stroke:#000000; stroke-width:1; stroke-opacity:1; fill:none\" points=\"\n",
       "  32.4745,157.434 40.6921,157.434 \n",
       "  \"/>\n",
       "<polyline clip-path=\"url(#clip9000)\" style=\"stroke:#000000; stroke-width:1; stroke-opacity:1; fill:none\" points=\"\n",
       "  32.4745,84.6226 40.6921,84.6226 \n",
       "  \"/>\n",
       "<polyline clip-path=\"url(#clip9000)\" style=\"stroke:#000000; stroke-width:1; stroke-opacity:1; fill:none\" points=\"\n",
       "  32.4745,11.811 40.6921,11.811 \n",
       "  \"/>\n",
       "<g clip-path=\"url(#clip9000)\">\n",
       "<text style=\"fill:#000000; fill-opacity:1; font-family:Arial,Helvetica Neue,Helvetica,sans-serif; font-size:12; text-anchor:middle;\" transform=\"rotate(0, 32.4745, 389.669)\" x=\"32.4745\" y=\"389.669\">0.0</text>\n",
       "</g>\n",
       "<g clip-path=\"url(#clip9000)\">\n",
       "<text style=\"fill:#000000; fill-opacity:1; font-family:Arial,Helvetica Neue,Helvetica,sans-serif; font-size:12; text-anchor:middle;\" transform=\"rotate(0, 142.043, 389.669)\" x=\"142.043\" y=\"389.669\">0.2</text>\n",
       "</g>\n",
       "<g clip-path=\"url(#clip9000)\">\n",
       "<text style=\"fill:#000000; fill-opacity:1; font-family:Arial,Helvetica Neue,Helvetica,sans-serif; font-size:12; text-anchor:middle;\" transform=\"rotate(0, 251.611, 389.669)\" x=\"251.611\" y=\"389.669\">0.4</text>\n",
       "</g>\n",
       "<g clip-path=\"url(#clip9000)\">\n",
       "<text style=\"fill:#000000; fill-opacity:1; font-family:Arial,Helvetica Neue,Helvetica,sans-serif; font-size:12; text-anchor:middle;\" transform=\"rotate(0, 361.179, 389.669)\" x=\"361.179\" y=\"389.669\">0.6</text>\n",
       "</g>\n",
       "<g clip-path=\"url(#clip9000)\">\n",
       "<text style=\"fill:#000000; fill-opacity:1; font-family:Arial,Helvetica Neue,Helvetica,sans-serif; font-size:12; text-anchor:middle;\" transform=\"rotate(0, 470.747, 389.669)\" x=\"470.747\" y=\"389.669\">0.8</text>\n",
       "</g>\n",
       "<g clip-path=\"url(#clip9000)\">\n",
       "<text style=\"fill:#000000; fill-opacity:1; font-family:Arial,Helvetica Neue,Helvetica,sans-serif; font-size:12; text-anchor:middle;\" transform=\"rotate(0, 580.315, 389.669)\" x=\"580.315\" y=\"389.669\">1.0</text>\n",
       "</g>\n",
       "<g clip-path=\"url(#clip9000)\">\n",
       "<text style=\"fill:#000000; fill-opacity:1; font-family:Arial,Helvetica Neue,Helvetica,sans-serif; font-size:12; text-anchor:end;\" transform=\"rotate(0, 26.4745, 380.369)\" x=\"26.4745\" y=\"380.369\">0.0</text>\n",
       "</g>\n",
       "<g clip-path=\"url(#clip9000)\">\n",
       "<text style=\"fill:#000000; fill-opacity:1; font-family:Arial,Helvetica Neue,Helvetica,sans-serif; font-size:12; text-anchor:end;\" transform=\"rotate(0, 26.4745, 307.557)\" x=\"26.4745\" y=\"307.557\">0.2</text>\n",
       "</g>\n",
       "<g clip-path=\"url(#clip9000)\">\n",
       "<text style=\"fill:#000000; fill-opacity:1; font-family:Arial,Helvetica Neue,Helvetica,sans-serif; font-size:12; text-anchor:end;\" transform=\"rotate(0, 26.4745, 234.746)\" x=\"26.4745\" y=\"234.746\">0.4</text>\n",
       "</g>\n",
       "<g clip-path=\"url(#clip9000)\">\n",
       "<text style=\"fill:#000000; fill-opacity:1; font-family:Arial,Helvetica Neue,Helvetica,sans-serif; font-size:12; text-anchor:end;\" transform=\"rotate(0, 26.4745, 161.934)\" x=\"26.4745\" y=\"161.934\">0.6</text>\n",
       "</g>\n",
       "<g clip-path=\"url(#clip9000)\">\n",
       "<text style=\"fill:#000000; fill-opacity:1; font-family:Arial,Helvetica Neue,Helvetica,sans-serif; font-size:12; text-anchor:end;\" transform=\"rotate(0, 26.4745, 89.1226)\" x=\"26.4745\" y=\"89.1226\">0.8</text>\n",
       "</g>\n",
       "<g clip-path=\"url(#clip9000)\">\n",
       "<text style=\"fill:#000000; fill-opacity:1; font-family:Arial,Helvetica Neue,Helvetica,sans-serif; font-size:12; text-anchor:end;\" transform=\"rotate(0, 26.4745, 16.311)\" x=\"26.4745\" y=\"16.311\">1.0</text>\n",
       "</g>\n",
       "<polyline clip-path=\"url(#clip9002)\" style=\"stroke:#009af9; stroke-width:1; stroke-opacity:1; fill:none\" points=\"\n",
       "  32.4745,375.869 33.0223,375.868 33.5702,375.867 34.118,375.865 34.6659,375.863 35.2137,375.86 35.7615,375.856 36.3094,375.851 36.8572,375.845 37.4051,375.839 \n",
       "  37.9529,375.832 38.5007,375.825 39.0486,375.816 39.5964,375.807 40.1443,375.797 40.6921,375.787 41.2399,375.775 41.7878,375.763 42.3356,375.751 42.8835,375.737 \n",
       "  43.4313,375.723 43.9791,375.708 44.527,375.692 45.0748,375.676 45.6227,375.659 46.1705,375.641 46.7183,375.623 47.2662,375.603 47.814,375.583 48.3619,375.563 \n",
       "  48.9097,375.541 49.4575,375.519 50.0054,375.496 50.5532,375.472 51.1011,375.448 51.6489,375.423 52.1968,375.397 52.7446,375.37 53.2924,375.343 53.8403,375.315 \n",
       "  54.3881,375.286 54.936,375.257 55.4838,375.226 56.0316,375.196 56.5795,375.164 57.1273,375.131 57.6752,375.098 58.223,375.064 58.7708,375.03 59.3187,374.995 \n",
       "  59.8665,374.959 60.4144,374.922 60.9622,374.884 61.51,374.846 62.0579,374.807 62.6057,374.767 63.1536,374.727 63.7014,374.686 64.2492,374.644 64.7971,374.601 \n",
       "  65.3449,374.558 65.8928,374.514 66.4406,374.469 66.9884,374.424 67.5363,374.378 68.0841,374.331 68.632,374.283 69.1798,374.234 69.7276,374.185 70.2755,374.135 \n",
       "  70.8233,374.085 71.3712,374.033 71.919,373.981 72.4668,373.929 73.0147,373.875 73.5625,373.821 74.1104,373.766 74.6582,373.71 75.2061,373.654 75.7539,373.597 \n",
       "  76.3017,373.539 76.8496,373.48 77.3974,373.421 77.9453,373.361 78.4931,373.3 79.0409,373.238 79.5888,373.176 80.1366,373.113 80.6845,373.049 81.2323,372.985 \n",
       "  81.7801,372.92 82.328,372.854 82.8758,372.787 83.4237,372.72 83.9715,372.652 84.5193,372.583 85.0672,372.514 85.615,372.443 86.1629,372.372 86.7107,372.301 \n",
       "  87.2585,372.228 87.8064,372.155 88.3542,372.081 88.9021,372.006 89.4499,371.931 89.9977,371.855 90.5456,371.778 91.0934,371.701 91.6413,371.622 92.1891,371.543 \n",
       "  92.7369,371.464 93.2848,371.383 93.8326,371.302 94.3805,371.22 94.9283,371.137 95.4761,371.054 96.024,370.97 96.5718,370.885 97.1197,370.8 97.6675,370.713 \n",
       "  98.2153,370.626 98.7632,370.539 99.311,370.45 99.8589,370.361 100.407,370.271 100.955,370.18 101.502,370.089 102.05,369.997 102.598,369.904 103.146,369.81 \n",
       "  103.694,369.716 104.242,369.621 104.789,369.525 105.337,369.429 105.885,369.332 106.433,369.234 106.981,369.135 107.529,369.036 108.076,368.936 108.624,368.835 \n",
       "  109.172,368.733 109.72,368.631 110.268,368.528 110.816,368.424 111.364,368.32 111.911,368.214 112.459,368.108 113.007,368.002 113.555,367.894 114.103,367.786 \n",
       "  114.651,367.677 115.198,367.568 115.746,367.457 116.294,367.346 116.842,367.235 117.39,367.122 117.938,367.009 118.485,366.895 119.033,366.78 119.581,366.665 \n",
       "  120.129,366.549 120.677,366.432 121.225,366.314 121.772,366.196 122.32,366.077 122.868,365.957 123.416,365.837 123.964,365.715 124.512,365.594 125.06,365.471 \n",
       "  125.607,365.347 126.155,365.223 126.703,365.098 127.251,364.973 127.799,364.846 128.347,364.719 128.894,364.592 129.442,364.463 129.99,364.334 130.538,364.204 \n",
       "  131.086,364.073 131.634,363.942 132.181,363.81 132.729,363.677 133.277,363.543 133.825,363.409 134.373,363.274 134.921,363.138 135.469,363.001 136.016,362.864 \n",
       "  136.564,362.726 137.112,362.587 137.66,362.448 138.208,362.308 138.756,362.167 139.303,362.025 139.851,361.883 140.399,361.74 140.947,361.596 141.495,361.452 \n",
       "  142.043,361.306 142.59,361.16 143.138,361.014 143.686,360.866 144.234,360.718 144.782,360.569 145.33,360.42 145.877,360.269 146.425,360.118 146.973,359.966 \n",
       "  147.521,359.814 148.069,359.66 148.617,359.506 149.165,359.352 149.712,359.196 150.26,359.04 150.808,358.883 151.356,358.726 151.904,358.567 152.452,358.408 \n",
       "  152.999,358.248 153.547,358.088 154.095,357.926 154.643,357.764 155.191,357.602 155.739,357.438 156.286,357.274 156.834,357.109 157.382,356.944 157.93,356.777 \n",
       "  158.478,356.61 159.026,356.442 159.573,356.274 160.121,356.104 160.669,355.934 161.217,355.764 161.765,355.592 162.313,355.42 162.861,355.247 163.408,355.073 \n",
       "  163.956,354.899 164.504,354.724 165.052,354.548 165.6,354.371 166.148,354.194 166.695,354.016 167.243,353.837 167.791,353.658 168.339,353.478 168.887,353.297 \n",
       "  169.435,353.115 169.982,352.933 170.53,352.75 171.078,352.566 171.626,352.381 172.174,352.196 172.722,352.01 173.269,351.823 173.817,351.636 174.365,351.447 \n",
       "  174.913,351.258 175.461,351.069 176.009,350.878 176.557,350.687 177.104,350.495 177.652,350.303 178.2,350.109 178.748,349.915 179.296,349.721 179.844,349.525 \n",
       "  180.391,349.329 180.939,349.132 181.487,348.934 182.035,348.736 182.583,348.537 183.131,348.337 183.678,348.136 184.226,347.935 184.774,347.733 185.322,347.53 \n",
       "  185.87,347.327 186.418,347.122 186.966,346.917 187.513,346.712 188.061,346.505 188.609,346.298 189.157,346.09 189.705,345.882 190.253,345.672 190.8,345.462 \n",
       "  191.348,345.251 191.896,345.04 192.444,344.828 192.992,344.615 193.54,344.401 194.087,344.187 194.635,343.971 195.183,343.756 195.731,343.539 196.279,343.322 \n",
       "  196.827,343.103 197.374,342.885 197.922,342.665 198.47,342.445 199.018,342.224 199.566,342.002 200.114,341.78 200.662,341.557 201.209,341.333 201.757,341.108 \n",
       "  202.305,340.883 202.853,340.657 203.401,340.43 203.949,340.202 204.496,339.974 205.044,339.745 205.592,339.515 206.14,339.285 206.688,339.054 207.236,338.822 \n",
       "  207.783,338.589 208.331,338.356 208.879,338.122 209.427,337.887 209.975,337.651 210.523,337.415 211.07,337.178 211.618,336.94 212.166,336.702 212.714,336.463 \n",
       "  213.262,336.223 213.81,335.982 214.358,335.741 214.905,335.499 215.453,335.256 216.001,335.012 216.549,334.768 217.097,334.523 217.645,334.277 218.192,334.031 \n",
       "  218.74,333.784 219.288,333.536 219.836,333.287 220.384,333.038 220.932,332.788 221.479,332.537 222.027,332.285 222.575,332.033 223.123,331.78 223.671,331.526 \n",
       "  224.219,331.272 224.766,331.016 225.314,330.76 225.862,330.504 226.41,330.246 226.958,329.988 227.506,329.729 228.054,329.47 228.601,329.21 229.149,328.949 \n",
       "  229.697,328.687 230.245,328.424 230.793,328.161 231.341,327.897 231.888,327.632 232.436,327.367 232.984,327.101 233.532,326.834 234.08,326.567 234.628,326.298 \n",
       "  235.175,326.029 235.723,325.759 236.271,325.489 236.819,325.218 237.367,324.946 237.915,324.673 238.463,324.4 239.01,324.126 239.558,323.851 240.106,323.575 \n",
       "  240.654,323.299 241.202,323.022 241.75,322.744 242.297,322.465 242.845,322.186 243.393,321.906 243.941,321.626 244.489,321.344 245.037,321.062 245.584,320.779 \n",
       "  246.132,320.496 246.68,320.211 247.228,319.926 247.776,319.64 248.324,319.354 248.871,319.067 249.419,318.779 249.967,318.49 250.515,318.2 251.063,317.91 \n",
       "  251.611,317.619 252.159,317.328 252.706,317.036 253.254,316.742 253.802,316.449 254.35,316.154 254.898,315.859 255.446,315.563 255.993,315.266 256.541,314.969 \n",
       "  257.089,314.671 257.637,314.372 258.185,314.072 258.733,313.772 259.28,313.471 259.828,313.169 260.376,312.866 260.924,312.563 261.472,312.259 262.02,311.954 \n",
       "  262.567,311.649 263.115,311.343 263.663,311.036 264.211,310.728 264.759,310.42 265.307,310.111 265.855,309.801 266.402,309.49 266.95,309.179 267.498,308.867 \n",
       "  268.046,308.554 268.594,308.241 269.142,307.927 269.689,307.612 270.237,307.296 270.785,306.98 271.333,306.663 271.881,306.345 272.429,306.026 272.976,305.707 \n",
       "  273.524,305.387 274.072,305.066 274.62,304.745 275.168,304.423 275.716,304.1 276.264,303.776 276.811,303.452 277.359,303.127 277.907,302.801 278.455,302.474 \n",
       "  279.003,302.147 279.551,301.819 280.098,301.49 280.646,301.161 281.194,300.831 281.742,300.5 282.29,300.168 282.838,299.836 283.385,299.502 283.933,299.169 \n",
       "  284.481,298.834 285.029,298.499 285.577,298.163 286.125,297.826 286.672,297.489 287.22,297.15 287.768,296.811 288.316,296.472 288.864,296.131 289.412,295.79 \n",
       "  289.96,295.448 290.507,295.106 291.055,294.762 291.603,294.418 292.151,294.074 292.699,293.728 293.247,293.382 293.794,293.035 294.342,292.687 294.89,292.339 \n",
       "  295.438,291.99 295.986,291.64 296.534,291.289 297.081,290.938 297.629,290.586 298.177,290.233 298.725,289.88 299.273,289.525 299.821,289.171 300.368,288.815 \n",
       "  300.916,288.458 301.464,288.101 302.012,287.743 302.56,287.385 303.108,287.026 303.656,286.665 304.203,286.305 304.751,285.943 305.299,285.581 305.847,285.218 \n",
       "  306.395,284.854 306.943,284.49 307.49,284.125 308.038,283.759 308.586,283.392 309.134,283.025 309.682,282.657 310.23,282.288 310.777,281.919 311.325,281.548 \n",
       "  311.873,281.177 312.421,280.806 312.969,280.433 313.517,280.06 314.064,279.686 314.612,279.311 315.16,278.936 315.708,278.56 316.256,278.183 316.804,277.806 \n",
       "  317.352,277.427 317.899,277.049 318.447,276.669 318.995,276.288 319.543,275.907 320.091,275.525 320.639,275.143 321.186,274.759 321.734,274.375 322.282,273.99 \n",
       "  322.83,273.605 323.378,273.219 323.926,272.832 324.473,272.444 325.021,272.055 325.569,271.666 326.117,271.276 326.665,270.886 327.213,270.494 327.761,270.102 \n",
       "  328.308,269.709 328.856,269.316 329.404,268.922 329.952,268.527 330.5,268.131 331.048,267.734 331.595,267.337 332.143,266.939 332.691,266.541 333.239,266.141 \n",
       "  333.787,265.741 334.335,265.34 334.882,264.939 335.43,264.537 335.978,264.134 336.526,263.73 337.074,263.325 337.622,262.92 338.169,262.514 338.717,262.108 \n",
       "  339.265,261.7 339.813,261.292 340.361,260.883 340.909,260.474 341.457,260.063 342.004,259.652 342.552,259.241 343.1,258.828 343.648,258.415 344.196,258.001 \n",
       "  344.744,257.586 345.291,257.171 345.839,256.755 346.387,256.338 346.935,255.92 347.483,255.502 348.031,255.083 348.578,254.663 349.126,254.243 349.674,253.822 \n",
       "  350.222,253.4 350.77,252.977 351.318,252.554 351.865,252.129 352.413,251.705 352.961,251.279 353.509,250.853 354.057,250.426 354.605,249.998 355.153,249.569 \n",
       "  355.7,249.14 356.248,248.71 356.796,248.28 357.344,247.848 357.892,247.416 358.44,246.983 358.987,246.55 359.535,246.115 360.083,245.68 360.631,245.244 \n",
       "  361.179,244.808 361.727,244.371 362.274,243.933 362.822,243.494 363.37,243.055 363.918,242.614 364.466,242.174 365.014,241.732 365.561,241.29 366.109,240.847 \n",
       "  366.657,240.403 367.205,239.958 367.753,239.513 368.301,239.067 368.849,238.62 369.396,238.173 369.944,237.725 370.492,237.276 371.04,236.826 371.588,236.376 \n",
       "  372.136,235.925 372.683,235.473 373.231,235.021 373.779,234.567 374.327,234.113 374.875,233.659 375.423,233.203 375.97,232.747 376.518,232.29 377.066,231.833 \n",
       "  377.614,231.374 378.162,230.915 378.71,230.455 379.258,229.995 379.805,229.534 380.353,229.072 380.901,228.609 381.449,228.145 381.997,227.681 382.545,227.216 \n",
       "  383.092,226.751 383.64,226.284 384.188,225.817 384.736,225.349 385.284,224.881 385.832,224.412 386.379,223.942 386.927,223.471 387.475,222.999 388.023,222.527 \n",
       "  388.571,222.054 389.119,221.581 389.666,221.106 390.214,220.631 390.762,220.155 391.31,219.679 391.858,219.202 392.406,218.724 392.954,218.245 393.501,217.765 \n",
       "  394.049,217.285 394.597,216.804 395.145,216.323 395.693,215.84 396.241,215.357 396.788,214.873 397.336,214.389 397.884,213.903 398.432,213.417 398.98,212.931 \n",
       "  399.528,212.443 400.075,211.955 400.623,211.466 401.171,210.976 401.719,210.486 402.267,209.995 402.815,209.503 403.362,209.01 403.91,208.517 404.458,208.023 \n",
       "  405.006,207.528 405.554,207.033 406.102,206.537 406.65,206.04 407.197,205.542 407.745,205.044 408.293,204.545 408.841,204.045 409.389,203.544 409.937,203.043 \n",
       "  410.484,202.541 411.032,202.038 411.58,201.535 412.128,201.03 412.676,200.525 413.224,200.02 413.771,199.513 414.319,199.006 414.867,198.498 415.415,197.99 \n",
       "  415.963,197.48 416.511,196.97 417.059,196.46 417.606,195.948 418.154,195.436 418.702,194.923 419.25,194.409 419.798,193.895 420.346,193.38 420.893,192.864 \n",
       "  421.441,192.347 421.989,191.83 422.537,191.312 423.085,190.793 423.633,190.274 424.18,189.753 424.728,189.232 425.276,188.711 425.824,188.188 426.372,187.665 \n",
       "  426.92,187.141 427.467,186.617 428.015,186.091 428.563,185.565 429.111,185.038 429.659,184.511 430.207,183.983 430.755,183.454 431.302,182.924 431.85,182.394 \n",
       "  432.398,181.862 432.946,181.33 433.494,180.798 434.042,180.265 434.589,179.73 435.137,179.196 435.685,178.66 436.233,178.124 436.781,177.587 437.329,177.049 \n",
       "  437.876,176.511 438.424,175.972 438.972,175.432 439.52,174.891 440.068,174.35 440.616,173.808 441.163,173.265 441.711,172.721 442.259,172.177 442.807,171.632 \n",
       "  443.355,171.086 443.903,170.54 444.451,169.993 444.998,169.445 445.546,168.896 446.094,168.347 446.642,167.797 447.19,167.246 447.738,166.694 448.285,166.142 \n",
       "  448.833,165.589 449.381,165.035 449.929,164.481 450.477,163.926 451.025,163.37 451.572,162.813 452.12,162.256 452.668,161.698 453.216,161.139 453.764,160.579 \n",
       "  454.312,160.019 454.859,159.458 455.407,158.896 455.955,158.334 456.503,157.77 457.051,157.207 457.599,156.642 458.147,156.077 458.694,155.51 459.242,154.944 \n",
       "  459.79,154.376 460.338,153.808 460.886,153.239 461.434,152.669 461.981,152.098 462.529,151.527 463.077,150.955 463.625,150.383 464.173,149.809 464.721,149.235 \n",
       "  465.268,148.66 465.816,148.085 466.364,147.508 466.912,146.931 467.46,146.354 468.008,145.775 468.556,145.196 469.103,144.616 469.651,144.035 470.199,143.454 \n",
       "  470.747,142.872 471.295,142.289 471.843,141.705 472.39,141.121 472.938,140.536 473.486,139.95 474.034,139.364 474.582,138.776 475.13,138.189 475.677,137.6 \n",
       "  476.225,137.01 476.773,136.42 477.321,135.829 477.869,135.238 478.417,134.646 478.964,134.052 479.512,133.459 480.06,132.864 480.608,132.269 481.156,131.673 \n",
       "  481.704,131.076 482.252,130.479 482.799,129.881 483.347,129.282 483.895,128.682 484.443,128.082 484.991,127.481 485.539,126.879 486.086,126.277 486.634,125.673 \n",
       "  487.182,125.069 487.73,124.465 488.278,123.859 488.826,123.253 489.373,122.646 489.921,122.039 490.469,121.43 491.017,120.821 491.565,120.211 492.113,119.601 \n",
       "  492.66,118.99 493.208,118.378 493.756,117.765 494.304,117.151 494.852,116.537 495.4,115.922 495.948,115.307 496.495,114.69 497.043,114.073 497.591,113.456 \n",
       "  498.139,112.837 498.687,112.218 499.235,111.598 499.782,110.977 500.33,110.356 500.878,109.733 501.426,109.111 501.974,108.487 502.522,107.863 503.069,107.237 \n",
       "  503.617,106.612 504.165,105.985 504.713,105.358 505.261,104.73 505.809,104.101 506.356,103.472 506.904,102.841 507.452,102.211 508,101.579 508.548,100.947 \n",
       "  509.096,100.313 509.644,99.6796 510.191,99.0451 510.739,98.4098 511.287,97.7738 511.835,97.137 512.383,96.4996 512.931,95.8614 513.478,95.2225 514.026,94.5828 \n",
       "  514.574,93.9424 515.122,93.3013 515.67,92.6595 516.218,92.0169 516.765,91.3736 517.313,90.7296 517.861,90.0849 518.409,89.4394 518.957,88.7932 519.505,88.1463 \n",
       "  520.053,87.4986 520.6,86.8502 521.148,86.2011 521.696,85.5513 522.244,84.9007 522.792,84.2494 523.34,83.5974 523.887,82.9446 524.435,82.2911 524.983,81.6369 \n",
       "  525.531,80.982 526.079,80.3263 526.627,79.6699 527.174,79.0128 527.722,78.3549 528.27,77.6964 528.818,77.037 529.366,76.377 529.914,75.7162 530.461,75.0548 \n",
       "  531.009,74.3925 531.557,73.7296 532.105,73.0659 532.653,72.4015 533.201,71.7364 533.749,71.0705 534.296,70.4039 534.844,69.7366 535.392,69.0686 535.94,68.3998 \n",
       "  536.488,67.7303 537.036,67.06 537.583,66.3891 538.131,65.7174 538.679,65.045 539.227,64.3718 539.775,63.698 540.323,63.0234 540.87,62.3481 541.418,61.672 \n",
       "  541.966,60.9952 542.514,60.3177 543.062,59.6395 543.61,58.9605 544.157,58.2808 544.705,57.6004 545.253,56.9192 545.801,56.2373 546.349,55.5547 546.897,54.8714 \n",
       "  547.445,54.1873 547.992,53.5025 548.54,52.817 549.088,52.1308 549.636,51.4438 550.184,50.7561 550.732,50.0677 551.279,49.3785 551.827,48.6886 552.375,47.998 \n",
       "  552.923,47.3066 553.471,46.6146 554.019,45.9218 554.566,45.2282 555.114,44.534 555.662,43.839 556.21,43.1433 556.758,42.4468 557.306,41.7497 557.854,41.0518 \n",
       "  558.401,40.3531 558.949,39.6538 559.497,38.9537 560.045,38.2529 560.593,37.5514 561.141,36.8491 561.688,36.1461 562.236,35.4424 562.784,34.7379 563.332,34.0327 \n",
       "  563.88,33.3268 564.428,32.6202 564.975,31.9128 565.523,31.2047 566.071,30.4959 566.619,29.7864 567.167,29.0761 567.715,28.3651 568.262,27.6534 568.81,26.9409 \n",
       "  569.358,26.2277 569.906,25.5138 570.454,24.7991 571.002,24.0838 571.55,23.3677 572.097,22.6508 572.645,21.9333 573.193,21.215 573.741,20.496 574.289,19.7762 \n",
       "  574.837,19.0558 575.384,18.3346 575.932,17.6126 576.48,16.89 577.028,16.1666 577.576,15.4425 578.124,14.7177 578.671,13.9921 579.219,13.2658 579.767,12.5388 \n",
       "  580.315,11.811 \n",
       "  \"/>\n",
       "<polyline clip-path=\"url(#clip9002)\" style=\"stroke:#e26f46; stroke-width:1; stroke-opacity:1; fill:none\" points=\"\n",
       "  32.4745,375.869 33.0223,375.778 33.5702,375.687 34.118,375.596 34.6659,375.505 35.2137,375.414 35.7615,375.323 36.3094,375.232 36.8572,375.141 37.4051,375.05 \n",
       "  37.9529,374.959 38.5007,374.868 39.0486,374.777 39.5964,374.685 40.1443,374.594 40.6921,374.503 41.2399,374.412 41.7878,374.321 42.3356,374.23 42.8835,374.139 \n",
       "  43.4313,374.048 43.9791,373.957 44.527,373.866 45.0748,373.775 45.6227,373.684 46.1705,373.593 46.7183,373.502 47.2662,373.411 47.814,373.32 48.3619,373.229 \n",
       "  48.9097,373.138 49.4575,373.047 50.0054,372.956 50.5532,372.865 51.1011,372.774 51.6489,372.683 52.1968,372.592 52.7446,372.501 53.2924,372.41 53.8403,372.319 \n",
       "  54.3881,372.228 54.936,372.137 55.4838,372.046 56.0316,371.955 56.5795,371.864 57.1273,371.773 57.6752,371.682 58.223,371.591 58.7708,371.5 59.3187,371.409 \n",
       "  59.8665,371.318 60.4144,371.227 60.9622,371.136 61.51,371.045 62.0579,370.954 62.6057,370.863 63.1536,370.772 63.7014,370.681 64.2492,370.59 64.7971,370.499 \n",
       "  65.3449,370.408 65.8928,370.317 66.4406,370.226 66.9884,370.135 67.5363,370.044 68.0841,369.953 68.632,369.862 69.1798,369.771 69.7276,369.68 70.2755,369.589 \n",
       "  70.8233,369.498 71.3712,369.407 71.919,369.316 72.4668,369.225 73.0147,369.134 73.5625,369.043 74.1104,368.952 74.6582,368.861 75.2061,368.77 75.7539,368.679 \n",
       "  76.3017,368.588 76.8496,368.497 77.3974,368.405 77.9453,368.314 78.4931,368.223 79.0409,368.132 79.5888,368.041 80.1366,367.95 80.6845,367.859 81.2323,367.768 \n",
       "  81.7801,367.677 82.328,367.586 82.8758,367.495 83.4237,367.404 83.9715,367.313 84.5193,367.222 85.0672,367.131 85.615,367.04 86.1629,366.949 86.7107,366.858 \n",
       "  87.2585,366.767 87.8064,366.676 88.3542,366.585 88.9021,366.494 89.4499,366.403 89.9977,366.312 90.5456,366.221 91.0934,366.13 91.6413,366.039 92.1891,365.948 \n",
       "  92.7369,365.857 93.2848,365.766 93.8326,365.675 94.3805,365.584 94.9283,365.493 95.4761,365.402 96.024,365.311 96.5718,365.22 97.1197,365.129 97.6675,365.038 \n",
       "  98.2153,364.947 98.7632,364.856 99.311,364.765 99.8589,364.674 100.407,364.583 100.955,364.492 101.502,364.401 102.05,364.31 102.598,364.219 103.146,364.128 \n",
       "  103.694,364.037 104.242,363.946 104.789,363.855 105.337,363.764 105.885,363.673 106.433,363.582 106.981,363.491 107.529,363.4 108.076,363.309 108.624,363.218 \n",
       "  109.172,363.127 109.72,363.036 110.268,362.945 110.816,362.854 111.364,362.763 111.911,362.672 112.459,362.581 113.007,362.49 113.555,362.399 114.103,362.308 \n",
       "  114.651,362.217 115.198,362.126 115.746,362.034 116.294,361.943 116.842,361.852 117.39,361.761 117.938,361.67 118.485,361.579 119.033,361.488 119.581,361.397 \n",
       "  120.129,361.306 120.677,361.215 121.225,361.124 121.772,361.033 122.32,360.942 122.868,360.851 123.416,360.76 123.964,360.669 124.512,360.578 125.06,360.487 \n",
       "  125.607,360.396 126.155,360.305 126.703,360.214 127.251,360.123 127.799,360.032 128.347,359.941 128.894,359.85 129.442,359.759 129.99,359.668 130.538,359.577 \n",
       "  131.086,359.486 131.634,359.395 132.181,359.304 132.729,359.213 133.277,359.122 133.825,359.031 134.373,358.94 134.921,358.849 135.469,358.758 136.016,358.667 \n",
       "  136.564,358.576 137.112,358.485 137.66,358.394 138.208,358.303 138.756,358.212 139.303,358.121 139.851,358.03 140.399,357.939 140.947,357.848 141.495,357.757 \n",
       "  142.043,357.666 142.59,357.575 143.138,357.484 143.686,357.393 144.234,357.302 144.782,357.211 145.33,357.12 145.877,357.029 146.425,356.938 146.973,356.847 \n",
       "  147.521,356.756 148.069,356.665 148.617,356.574 149.165,356.483 149.712,356.392 150.26,356.301 150.808,356.21 151.356,356.119 151.904,356.028 152.452,355.937 \n",
       "  152.999,355.846 153.547,355.754 154.095,355.663 154.643,355.572 155.191,355.481 155.739,355.39 156.286,355.299 156.834,355.208 157.382,355.117 157.93,355.026 \n",
       "  158.478,354.935 159.026,354.844 159.573,354.753 160.121,354.662 160.669,354.571 161.217,354.48 161.765,354.389 162.313,354.298 162.861,354.207 163.408,354.116 \n",
       "  163.956,354.025 164.504,353.934 165.052,353.843 165.6,353.752 166.148,353.661 166.695,353.57 167.243,353.479 167.791,353.388 168.339,353.297 168.887,353.206 \n",
       "  169.435,353.115 169.982,352.842 170.53,352.569 171.078,352.296 171.626,352.023 172.174,351.75 172.722,351.477 173.269,351.204 173.817,350.931 174.365,350.658 \n",
       "  174.913,350.385 175.461,350.112 176.009,349.839 176.557,349.566 177.104,349.292 177.652,349.019 178.2,348.746 178.748,348.473 179.296,348.2 179.844,347.927 \n",
       "  180.391,347.654 180.939,347.381 181.487,347.108 182.035,346.835 182.583,346.562 183.131,346.289 183.678,346.016 184.226,345.743 184.774,345.47 185.322,345.197 \n",
       "  185.87,344.924 186.418,344.651 186.966,344.378 187.513,344.105 188.061,343.832 188.609,343.559 189.157,343.286 189.705,343.012 190.253,342.739 190.8,342.466 \n",
       "  191.348,342.193 191.896,341.92 192.444,341.647 192.992,341.374 193.54,341.101 194.087,340.828 194.635,340.555 195.183,340.282 195.731,340.009 196.279,339.736 \n",
       "  196.827,339.463 197.374,339.19 197.922,338.917 198.47,338.644 199.018,338.371 199.566,338.098 200.114,337.825 200.662,337.552 201.209,337.279 201.757,337.006 \n",
       "  202.305,336.732 202.853,336.459 203.401,336.186 203.949,335.913 204.496,335.64 205.044,335.367 205.592,335.094 206.14,334.821 206.688,334.548 207.236,334.275 \n",
       "  207.783,334.002 208.331,333.729 208.879,333.456 209.427,333.183 209.975,332.91 210.523,332.637 211.07,332.364 211.618,332.091 212.166,331.818 212.714,331.545 \n",
       "  213.262,331.272 213.81,330.999 214.358,330.726 214.905,330.452 215.453,330.179 216.001,329.906 216.549,329.633 217.097,329.36 217.645,329.087 218.192,328.814 \n",
       "  218.74,328.541 219.288,328.268 219.836,327.995 220.384,327.722 220.932,327.449 221.479,327.176 222.027,326.903 222.575,326.63 223.123,326.357 223.671,326.084 \n",
       "  224.219,325.811 224.766,325.538 225.314,325.265 225.862,324.992 226.41,324.719 226.958,324.446 227.506,324.172 228.054,323.899 228.601,323.626 229.149,323.353 \n",
       "  229.697,323.08 230.245,322.807 230.793,322.534 231.341,322.261 231.888,321.988 232.436,321.715 232.984,321.442 233.532,321.169 234.08,320.896 234.628,320.623 \n",
       "  235.175,320.35 235.723,320.077 236.271,319.804 236.819,319.531 237.367,319.258 237.915,318.985 238.463,318.712 239.01,318.439 239.558,318.166 240.106,317.892 \n",
       "  240.654,317.619 241.202,317.346 241.75,317.073 242.297,316.8 242.845,316.527 243.393,316.254 243.941,315.981 244.489,315.708 245.037,315.435 245.584,315.162 \n",
       "  246.132,314.889 246.68,314.616 247.228,314.343 247.776,314.07 248.324,313.797 248.871,313.524 249.419,313.251 249.967,312.978 250.515,312.705 251.063,312.432 \n",
       "  251.611,312.159 252.159,311.886 252.706,311.613 253.254,311.339 253.802,311.066 254.35,310.793 254.898,310.52 255.446,310.247 255.993,309.974 256.541,309.701 \n",
       "  257.089,309.428 257.637,309.155 258.185,308.882 258.733,308.609 259.28,308.336 259.828,308.063 260.376,307.79 260.924,307.517 261.472,307.244 262.02,306.971 \n",
       "  262.567,306.698 263.115,306.425 263.663,306.152 264.211,305.879 264.759,305.606 265.307,305.333 265.855,305.059 266.402,304.786 266.95,304.513 267.498,304.24 \n",
       "  268.046,303.967 268.594,303.694 269.142,303.421 269.689,303.148 270.237,302.875 270.785,302.602 271.333,302.329 271.881,302.056 272.429,301.783 272.976,301.51 \n",
       "  273.524,301.237 274.072,300.964 274.62,300.691 275.168,300.418 275.716,300.145 276.264,299.872 276.811,299.599 277.359,299.326 277.907,299.053 278.455,298.779 \n",
       "  279.003,298.506 279.551,298.233 280.098,297.96 280.646,297.687 281.194,297.414 281.742,297.141 282.29,296.868 282.838,296.595 283.385,296.322 283.933,296.049 \n",
       "  284.481,295.776 285.029,295.503 285.577,295.23 286.125,294.957 286.672,294.684 287.22,294.411 287.768,294.138 288.316,293.865 288.864,293.592 289.412,293.319 \n",
       "  289.96,293.046 290.507,292.773 291.055,292.499 291.603,292.226 292.151,291.953 292.699,291.68 293.247,291.407 293.794,291.134 294.342,290.861 294.89,290.588 \n",
       "  295.438,290.315 295.986,290.042 296.534,289.769 297.081,289.496 297.629,289.223 298.177,288.95 298.725,288.677 299.273,288.404 299.821,288.131 300.368,287.858 \n",
       "  300.916,287.585 301.464,287.312 302.012,287.039 302.56,286.766 303.108,286.493 303.656,286.219 304.203,285.946 304.751,285.673 305.299,285.4 305.847,285.127 \n",
       "  306.395,284.854 306.943,284.399 307.49,283.944 308.038,283.489 308.586,283.034 309.134,282.579 309.682,282.124 310.23,281.669 310.777,281.214 311.325,280.759 \n",
       "  311.873,280.304 312.421,279.848 312.969,279.393 313.517,278.938 314.064,278.483 314.612,278.028 315.16,277.573 315.708,277.118 316.256,276.663 316.804,276.208 \n",
       "  317.352,275.753 317.899,275.298 318.447,274.843 318.995,274.388 319.543,273.933 320.091,273.477 320.639,273.022 321.186,272.567 321.734,272.112 322.282,271.657 \n",
       "  322.83,271.202 323.378,270.747 323.926,270.292 324.473,269.837 325.021,269.382 325.569,268.927 326.117,268.472 326.665,268.017 327.213,267.562 327.761,267.106 \n",
       "  328.308,266.651 328.856,266.196 329.404,265.741 329.952,265.286 330.5,264.831 331.048,264.376 331.595,263.921 332.143,263.466 332.691,263.011 333.239,262.556 \n",
       "  333.787,262.101 334.335,261.646 334.882,261.191 335.43,260.735 335.978,260.28 336.526,259.825 337.074,259.37 337.622,258.915 338.169,258.46 338.717,258.005 \n",
       "  339.265,257.55 339.813,257.095 340.361,256.64 340.909,256.185 341.457,255.73 342.004,255.275 342.552,254.82 343.1,254.364 343.648,253.909 344.196,253.454 \n",
       "  344.744,252.999 345.291,252.544 345.839,252.089 346.387,251.634 346.935,251.179 347.483,250.724 348.031,250.269 348.578,249.814 349.126,249.359 349.674,248.904 \n",
       "  350.222,248.449 350.77,247.993 351.318,247.538 351.865,247.083 352.413,246.628 352.961,246.173 353.509,245.718 354.057,245.263 354.605,244.808 355.153,244.353 \n",
       "  355.7,243.898 356.248,243.443 356.796,242.988 357.344,242.533 357.892,242.077 358.44,241.622 358.987,241.167 359.535,240.712 360.083,240.257 360.631,239.802 \n",
       "  361.179,239.347 361.727,238.892 362.274,238.437 362.822,237.982 363.37,237.527 363.918,237.072 364.466,236.617 365.014,236.162 365.561,235.706 366.109,235.251 \n",
       "  366.657,234.796 367.205,234.341 367.753,233.886 368.301,233.431 368.849,232.976 369.396,232.521 369.944,232.066 370.492,231.611 371.04,231.156 371.588,230.701 \n",
       "  372.136,230.246 372.683,229.791 373.231,229.335 373.779,228.88 374.327,228.425 374.875,227.97 375.423,227.515 375.97,227.06 376.518,226.605 377.066,226.15 \n",
       "  377.614,225.695 378.162,225.24 378.71,224.785 379.258,224.33 379.805,223.875 380.353,223.42 380.901,222.964 381.449,222.509 381.997,222.054 382.545,221.599 \n",
       "  383.092,221.144 383.64,220.689 384.188,220.234 384.736,219.779 385.284,219.324 385.832,218.869 386.379,218.414 386.927,217.959 387.475,217.504 388.023,217.049 \n",
       "  388.571,216.593 389.119,216.138 389.666,215.683 390.214,215.228 390.762,214.773 391.31,214.318 391.858,213.863 392.406,213.408 392.954,212.953 393.501,212.498 \n",
       "  394.049,212.043 394.597,211.588 395.145,211.133 395.693,210.678 396.241,210.222 396.788,209.767 397.336,209.312 397.884,208.857 398.432,208.402 398.98,207.947 \n",
       "  399.528,207.492 400.075,207.037 400.623,206.582 401.171,206.127 401.719,205.672 402.267,205.217 402.815,204.762 403.362,204.307 403.91,203.851 404.458,203.396 \n",
       "  405.006,202.941 405.554,202.486 406.102,202.031 406.65,201.576 407.197,201.121 407.745,200.666 408.293,200.211 408.841,199.756 409.389,199.301 409.937,198.846 \n",
       "  410.484,198.391 411.032,197.936 411.58,197.48 412.128,197.025 412.676,196.57 413.224,196.115 413.771,195.66 414.319,195.205 414.867,194.75 415.415,194.295 \n",
       "  415.963,193.84 416.511,193.385 417.059,192.93 417.606,192.475 418.154,192.02 418.702,191.564 419.25,191.109 419.798,190.654 420.346,190.199 420.893,189.744 \n",
       "  421.441,189.289 421.989,188.834 422.537,188.379 423.085,187.924 423.633,187.469 424.18,187.014 424.728,186.559 425.276,186.104 425.824,185.649 426.372,185.193 \n",
       "  426.92,184.738 427.467,184.283 428.015,183.828 428.563,183.373 429.111,182.918 429.659,182.463 430.207,182.008 430.755,181.553 431.302,181.098 431.85,180.643 \n",
       "  432.398,180.188 432.946,179.733 433.494,179.278 434.042,178.822 434.589,178.367 435.137,177.912 435.685,177.457 436.233,177.002 436.781,176.547 437.329,176.092 \n",
       "  437.876,175.637 438.424,175.182 438.972,174.727 439.52,174.272 440.068,173.817 440.616,173.362 441.163,172.907 441.711,172.451 442.259,171.996 442.807,171.541 \n",
       "  443.355,171.086 443.903,170.449 444.451,169.812 444.998,169.175 445.546,168.538 446.094,167.901 446.642,167.264 447.19,166.627 447.738,165.989 448.285,165.352 \n",
       "  448.833,164.715 449.381,164.078 449.929,163.441 450.477,162.804 451.025,162.167 451.572,161.53 452.12,160.893 452.668,160.256 453.216,159.618 453.764,158.981 \n",
       "  454.312,158.344 454.859,157.707 455.407,157.07 455.955,156.433 456.503,155.796 457.051,155.159 457.599,154.522 458.147,153.885 458.694,153.247 459.242,152.61 \n",
       "  459.79,151.973 460.338,151.336 460.886,150.699 461.434,150.062 461.981,149.425 462.529,148.788 463.077,148.151 463.625,147.514 464.173,146.876 464.721,146.239 \n",
       "  465.268,145.602 465.816,144.965 466.364,144.328 466.912,143.691 467.46,143.054 468.008,142.417 468.556,141.78 469.103,141.143 469.651,140.505 470.199,139.868 \n",
       "  470.747,139.231 471.295,138.594 471.843,137.957 472.39,137.32 472.938,136.683 473.486,136.046 474.034,135.409 474.582,134.771 475.13,134.134 475.677,133.497 \n",
       "  476.225,132.86 476.773,132.223 477.321,131.586 477.869,130.949 478.417,130.312 478.964,129.675 479.512,129.038 480.06,128.4 480.608,127.763 481.156,127.126 \n",
       "  481.704,126.489 482.252,125.852 482.799,125.215 483.347,124.578 483.895,123.941 484.443,123.304 484.991,122.667 485.539,122.029 486.086,121.392 486.634,120.755 \n",
       "  487.182,120.118 487.73,119.481 488.278,118.844 488.826,118.207 489.373,117.57 489.921,116.933 490.469,116.296 491.017,115.658 491.565,115.021 492.113,114.384 \n",
       "  492.66,113.747 493.208,113.11 493.756,112.473 494.304,111.836 494.852,111.199 495.4,110.562 495.948,109.925 496.495,109.287 497.043,108.65 497.591,108.013 \n",
       "  498.139,107.376 498.687,106.739 499.235,106.102 499.782,105.465 500.33,104.828 500.878,104.191 501.426,103.554 501.974,102.916 502.522,102.279 503.069,101.642 \n",
       "  503.617,101.005 504.165,100.368 504.713,99.7309 505.261,99.0938 505.809,98.4567 506.356,97.8196 506.904,97.1825 507.452,96.5454 508,95.9083 508.548,95.2712 \n",
       "  509.096,94.6341 509.644,93.997 510.191,93.3599 510.739,92.7228 511.287,92.0857 511.835,91.4486 512.383,90.8115 512.931,90.1744 513.478,89.5373 514.026,88.9002 \n",
       "  514.574,88.2631 515.122,87.626 515.67,86.9889 516.218,86.3518 516.765,85.7147 517.313,85.0776 517.861,84.4405 518.409,83.8034 518.957,83.1663 519.505,82.5292 \n",
       "  520.053,81.8921 520.6,81.255 521.148,80.6179 521.696,79.9808 522.244,79.3437 522.792,78.7066 523.34,78.0695 523.887,77.4324 524.435,76.7953 524.983,76.1582 \n",
       "  525.531,75.5211 526.079,74.884 526.627,74.2469 527.174,73.6098 527.722,72.9727 528.27,72.3356 528.818,71.6985 529.366,71.0614 529.914,70.4243 530.461,69.7872 \n",
       "  531.009,69.1501 531.557,68.513 532.105,67.8759 532.653,67.2388 533.201,66.6017 533.749,65.9646 534.296,65.3275 534.844,64.6904 535.392,64.0533 535.94,63.4162 \n",
       "  536.488,62.7791 537.036,62.142 537.583,61.5049 538.131,60.8678 538.679,60.2307 539.227,59.5936 539.775,58.9565 540.323,58.3194 540.87,57.6823 541.418,57.0452 \n",
       "  541.966,56.4081 542.514,55.771 543.062,55.1339 543.61,54.4968 544.157,53.8597 544.705,53.2226 545.253,52.5855 545.801,51.9484 546.349,51.3113 546.897,50.6742 \n",
       "  547.445,50.0371 547.992,49.4 548.54,48.7629 549.088,48.1258 549.636,47.4887 550.184,46.8516 550.732,46.2145 551.279,45.5774 551.827,44.9403 552.375,44.3032 \n",
       "  552.923,43.6661 553.471,43.029 554.019,42.3919 554.566,41.7548 555.114,41.1177 555.662,40.4806 556.21,39.8435 556.758,39.2064 557.306,38.5693 557.854,37.9322 \n",
       "  558.401,37.2951 558.949,36.658 559.497,36.0209 560.045,35.3838 560.593,34.7467 561.141,34.1096 561.688,33.4725 562.236,32.8354 562.784,32.1983 563.332,31.5612 \n",
       "  563.88,30.9241 564.428,30.2869 564.975,29.6498 565.523,29.0127 566.071,28.3756 566.619,27.7385 567.167,27.1014 567.715,26.4643 568.262,25.8272 568.81,25.1901 \n",
       "  569.358,24.553 569.906,23.9159 570.454,23.2788 571.002,22.6417 571.55,22.0046 572.097,21.3675 572.645,20.7304 573.193,20.0933 573.741,19.4562 574.289,18.8191 \n",
       "  574.837,18.182 575.384,17.5449 575.932,16.9078 576.48,16.2707 577.028,15.6336 577.576,14.9965 578.124,14.3594 578.671,13.7223 579.219,13.0852 579.767,12.4481 \n",
       "  580.315,11.811 \n",
       "  \"/>\n",
       "<polygon clip-path=\"url(#clip9000)\" points=\"\n",
       "489.608,78.051 562.315,78.051 562.315,32.691 489.608,32.691 \n",
       "  \" fill=\"#ffffff\" fill-opacity=\"1\"/>\n",
       "<polyline clip-path=\"url(#clip9000)\" style=\"stroke:#000000; stroke-width:1; stroke-opacity:1; fill:none\" points=\"\n",
       "  489.608,78.051 562.315,78.051 562.315,32.691 489.608,32.691 489.608,78.051 \n",
       "  \"/>\n",
       "<polyline clip-path=\"url(#clip9000)\" style=\"stroke:#009af9; stroke-width:1; stroke-opacity:1; fill:none\" points=\"\n",
       "  495.608,47.811 531.608,47.811 \n",
       "  \"/>\n",
       "<g clip-path=\"url(#clip9000)\">\n",
       "<text style=\"fill:#000000; fill-opacity:1; font-family:Arial,Helvetica Neue,Helvetica,sans-serif; font-size:12; text-anchor:start;\" transform=\"rotate(0, 537.608, 52.311)\" x=\"537.608\" y=\"52.311\">y1</text>\n",
       "</g>\n",
       "<polyline clip-path=\"url(#clip9000)\" style=\"stroke:#e26f46; stroke-width:1; stroke-opacity:1; fill:none\" points=\"\n",
       "  495.608,62.931 531.608,62.931 \n",
       "  \"/>\n",
       "<g clip-path=\"url(#clip9000)\">\n",
       "<text style=\"fill:#000000; fill-opacity:1; font-family:Arial,Helvetica Neue,Helvetica,sans-serif; font-size:12; text-anchor:start;\" transform=\"rotate(0, 537.608, 67.431)\" x=\"537.608\" y=\"67.431\">y2</text>\n",
       "</g>\n",
       "</svg>\n"
      ]
     },
     "execution_count": 13,
     "metadata": {},
     "output_type": "execute_result"
    }
   ],
   "source": [
    "xdata = 0.0:0.001:1.0\n",
    "ydata = [f_raw.(xdata), f_int.(xdata)]\n",
    "plot(xdata, ydata)"
   ]
  },
  {
   "cell_type": "markdown",
   "metadata": {},
   "source": [
    "## Expectations and Integration"
   ]
  },
  {
   "cell_type": "code",
   "execution_count": 14,
   "metadata": {},
   "outputs": [
    {
     "name": "stderr",
     "output_type": "stream",
     "text": [
      "\u001b[1m\u001b[36mINFO: \u001b[39m\u001b[22m\u001b[36mPrecompiling module IterableTables.\n",
      "\u001b[39m\u001b[1m\u001b[36mINFO: \u001b[39m\u001b[22m\u001b[36mPrecompiling module DataValues.\n",
      "\u001b[39m\u001b[1m\u001b[36mINFO: \u001b[39m\u001b[22m\u001b[36mPrecompiling module TableTraitsUtils.\n",
      "\u001b[39m\u001b[1m\u001b[36mINFO: \u001b[39m\u001b[22m\u001b[36mPrecompiling module KernelDensity.\n",
      "\u001b[39m\u001b[1m\u001b[36mINFO: \u001b[39m\u001b[22m\u001b[36mPrecompiling module Loess.\n",
      "\u001b[39m"
     ]
    },
    {
     "data": {
      "text/html": [
       "<?xml version=\"1.0\" encoding=\"utf-8\"?>\n",
       "<svg xmlns=\"http://www.w3.org/2000/svg\" xmlns:xlink=\"http://www.w3.org/1999/xlink\" width=\"600\" height=\"400\" viewBox=\"0 0 600 400\">\n",
       "<defs>\n",
       "  <clipPath id=\"clip9200\">\n",
       "    <rect x=\"0\" y=\"0\" width=\"600\" height=\"400\"/>\n",
       "  </clipPath>\n",
       "</defs>\n",
       "<polygon clip-path=\"url(#clip9200)\" points=\"\n",
       "0,400 600,400 600,0 0,0 \n",
       "  \" fill=\"#ffffff\" fill-opacity=\"1\"/>\n",
       "<defs>\n",
       "  <clipPath id=\"clip9201\">\n",
       "    <rect x=\"120\" y=\"0\" width=\"421\" height=\"400\"/>\n",
       "  </clipPath>\n",
       "</defs>\n",
       "<polygon clip-path=\"url(#clip9200)\" points=\"\n",
       "39.1651,375.869 580.315,375.869 580.315,11.811 39.1651,11.811 \n",
       "  \" fill=\"#ffffff\" fill-opacity=\"1\"/>\n",
       "<defs>\n",
       "  <clipPath id=\"clip9202\">\n",
       "    <rect x=\"39\" y=\"11\" width=\"542\" height=\"365\"/>\n",
       "  </clipPath>\n",
       "</defs>\n",
       "<polyline clip-path=\"url(#clip9202)\" style=\"stroke:#000000; stroke-width:0.5; stroke-opacity:0.1; fill:none\" points=\"\n",
       "  54.4806,375.869 54.4806,11.811 \n",
       "  \"/>\n",
       "<polyline clip-path=\"url(#clip9202)\" style=\"stroke:#000000; stroke-width:0.5; stroke-opacity:0.1; fill:none\" points=\"\n",
       "  182.11,375.869 182.11,11.811 \n",
       "  \"/>\n",
       "<polyline clip-path=\"url(#clip9202)\" style=\"stroke:#000000; stroke-width:0.5; stroke-opacity:0.1; fill:none\" points=\"\n",
       "  309.74,375.869 309.74,11.811 \n",
       "  \"/>\n",
       "<polyline clip-path=\"url(#clip9202)\" style=\"stroke:#000000; stroke-width:0.5; stroke-opacity:0.1; fill:none\" points=\"\n",
       "  437.37,375.869 437.37,11.811 \n",
       "  \"/>\n",
       "<polyline clip-path=\"url(#clip9202)\" style=\"stroke:#000000; stroke-width:0.5; stroke-opacity:0.1; fill:none\" points=\"\n",
       "  564.999,375.869 564.999,11.811 \n",
       "  \"/>\n",
       "<polyline clip-path=\"url(#clip9202)\" style=\"stroke:#000000; stroke-width:0.5; stroke-opacity:0.1; fill:none\" points=\"\n",
       "  39.1651,366.933 580.315,366.933 \n",
       "  \"/>\n",
       "<polyline clip-path=\"url(#clip9202)\" style=\"stroke:#000000; stroke-width:0.5; stroke-opacity:0.1; fill:none\" points=\"\n",
       "  39.1651,296.875 580.315,296.875 \n",
       "  \"/>\n",
       "<polyline clip-path=\"url(#clip9202)\" style=\"stroke:#000000; stroke-width:0.5; stroke-opacity:0.1; fill:none\" points=\"\n",
       "  39.1651,226.817 580.315,226.817 \n",
       "  \"/>\n",
       "<polyline clip-path=\"url(#clip9202)\" style=\"stroke:#000000; stroke-width:0.5; stroke-opacity:0.1; fill:none\" points=\"\n",
       "  39.1651,156.758 580.315,156.758 \n",
       "  \"/>\n",
       "<polyline clip-path=\"url(#clip9202)\" style=\"stroke:#000000; stroke-width:0.5; stroke-opacity:0.1; fill:none\" points=\"\n",
       "  39.1651,86.6997 580.315,86.6997 \n",
       "  \"/>\n",
       "<polyline clip-path=\"url(#clip9202)\" style=\"stroke:#000000; stroke-width:0.5; stroke-opacity:0.1; fill:none\" points=\"\n",
       "  39.1651,16.6412 580.315,16.6412 \n",
       "  \"/>\n",
       "<polyline clip-path=\"url(#clip9200)\" style=\"stroke:#000000; stroke-width:1; stroke-opacity:1; fill:none\" points=\"\n",
       "  39.1651,375.869 580.315,375.869 \n",
       "  \"/>\n",
       "<polyline clip-path=\"url(#clip9200)\" style=\"stroke:#000000; stroke-width:1; stroke-opacity:1; fill:none\" points=\"\n",
       "  39.1651,375.869 39.1651,11.811 \n",
       "  \"/>\n",
       "<polyline clip-path=\"url(#clip9200)\" style=\"stroke:#000000; stroke-width:1; stroke-opacity:1; fill:none\" points=\"\n",
       "  54.4806,375.869 54.4806,370.408 \n",
       "  \"/>\n",
       "<polyline clip-path=\"url(#clip9200)\" style=\"stroke:#000000; stroke-width:1; stroke-opacity:1; fill:none\" points=\"\n",
       "  182.11,375.869 182.11,370.408 \n",
       "  \"/>\n",
       "<polyline clip-path=\"url(#clip9200)\" style=\"stroke:#000000; stroke-width:1; stroke-opacity:1; fill:none\" points=\"\n",
       "  309.74,375.869 309.74,370.408 \n",
       "  \"/>\n",
       "<polyline clip-path=\"url(#clip9200)\" style=\"stroke:#000000; stroke-width:1; stroke-opacity:1; fill:none\" points=\"\n",
       "  437.37,375.869 437.37,370.408 \n",
       "  \"/>\n",
       "<polyline clip-path=\"url(#clip9200)\" style=\"stroke:#000000; stroke-width:1; stroke-opacity:1; fill:none\" points=\"\n",
       "  564.999,375.869 564.999,370.408 \n",
       "  \"/>\n",
       "<polyline clip-path=\"url(#clip9200)\" style=\"stroke:#000000; stroke-width:1; stroke-opacity:1; fill:none\" points=\"\n",
       "  39.1651,366.933 47.2823,366.933 \n",
       "  \"/>\n",
       "<polyline clip-path=\"url(#clip9200)\" style=\"stroke:#000000; stroke-width:1; stroke-opacity:1; fill:none\" points=\"\n",
       "  39.1651,296.875 47.2823,296.875 \n",
       "  \"/>\n",
       "<polyline clip-path=\"url(#clip9200)\" style=\"stroke:#000000; stroke-width:1; stroke-opacity:1; fill:none\" points=\"\n",
       "  39.1651,226.817 47.2823,226.817 \n",
       "  \"/>\n",
       "<polyline clip-path=\"url(#clip9200)\" style=\"stroke:#000000; stroke-width:1; stroke-opacity:1; fill:none\" points=\"\n",
       "  39.1651,156.758 47.2823,156.758 \n",
       "  \"/>\n",
       "<polyline clip-path=\"url(#clip9200)\" style=\"stroke:#000000; stroke-width:1; stroke-opacity:1; fill:none\" points=\"\n",
       "  39.1651,86.6997 47.2823,86.6997 \n",
       "  \"/>\n",
       "<polyline clip-path=\"url(#clip9200)\" style=\"stroke:#000000; stroke-width:1; stroke-opacity:1; fill:none\" points=\"\n",
       "  39.1651,16.6412 47.2823,16.6412 \n",
       "  \"/>\n",
       "<g clip-path=\"url(#clip9200)\">\n",
       "<text style=\"fill:#000000; fill-opacity:1; font-family:Arial,Helvetica Neue,Helvetica,sans-serif; font-size:12; text-anchor:middle;\" transform=\"rotate(0, 54.4806, 389.669)\" x=\"54.4806\" y=\"389.669\">0.0</text>\n",
       "</g>\n",
       "<g clip-path=\"url(#clip9200)\">\n",
       "<text style=\"fill:#000000; fill-opacity:1; font-family:Arial,Helvetica Neue,Helvetica,sans-serif; font-size:12; text-anchor:middle;\" transform=\"rotate(0, 182.11, 389.669)\" x=\"182.11\" y=\"389.669\">2.5</text>\n",
       "</g>\n",
       "<g clip-path=\"url(#clip9200)\">\n",
       "<text style=\"fill:#000000; fill-opacity:1; font-family:Arial,Helvetica Neue,Helvetica,sans-serif; font-size:12; text-anchor:middle;\" transform=\"rotate(0, 309.74, 389.669)\" x=\"309.74\" y=\"389.669\">5.0</text>\n",
       "</g>\n",
       "<g clip-path=\"url(#clip9200)\">\n",
       "<text style=\"fill:#000000; fill-opacity:1; font-family:Arial,Helvetica Neue,Helvetica,sans-serif; font-size:12; text-anchor:middle;\" transform=\"rotate(0, 437.37, 389.669)\" x=\"437.37\" y=\"389.669\">7.5</text>\n",
       "</g>\n",
       "<g clip-path=\"url(#clip9200)\">\n",
       "<text style=\"fill:#000000; fill-opacity:1; font-family:Arial,Helvetica Neue,Helvetica,sans-serif; font-size:12; text-anchor:middle;\" transform=\"rotate(0, 564.999, 389.669)\" x=\"564.999\" y=\"389.669\">10.0</text>\n",
       "</g>\n",
       "<g clip-path=\"url(#clip9200)\">\n",
       "<text style=\"fill:#000000; fill-opacity:1; font-family:Arial,Helvetica Neue,Helvetica,sans-serif; font-size:12; text-anchor:end;\" transform=\"rotate(0, 33.1651, 371.433)\" x=\"33.1651\" y=\"371.433\">0.00</text>\n",
       "</g>\n",
       "<g clip-path=\"url(#clip9200)\">\n",
       "<text style=\"fill:#000000; fill-opacity:1; font-family:Arial,Helvetica Neue,Helvetica,sans-serif; font-size:12; text-anchor:end;\" transform=\"rotate(0, 33.1651, 301.375)\" x=\"33.1651\" y=\"301.375\">0.05</text>\n",
       "</g>\n",
       "<g clip-path=\"url(#clip9200)\">\n",
       "<text style=\"fill:#000000; fill-opacity:1; font-family:Arial,Helvetica Neue,Helvetica,sans-serif; font-size:12; text-anchor:end;\" transform=\"rotate(0, 33.1651, 231.317)\" x=\"33.1651\" y=\"231.317\">0.10</text>\n",
       "</g>\n",
       "<g clip-path=\"url(#clip9200)\">\n",
       "<text style=\"fill:#000000; fill-opacity:1; font-family:Arial,Helvetica Neue,Helvetica,sans-serif; font-size:12; text-anchor:end;\" transform=\"rotate(0, 33.1651, 161.258)\" x=\"33.1651\" y=\"161.258\">0.15</text>\n",
       "</g>\n",
       "<g clip-path=\"url(#clip9200)\">\n",
       "<text style=\"fill:#000000; fill-opacity:1; font-family:Arial,Helvetica Neue,Helvetica,sans-serif; font-size:12; text-anchor:end;\" transform=\"rotate(0, 33.1651, 91.1997)\" x=\"33.1651\" y=\"91.1997\">0.20</text>\n",
       "</g>\n",
       "<g clip-path=\"url(#clip9200)\">\n",
       "<text style=\"fill:#000000; fill-opacity:1; font-family:Arial,Helvetica Neue,Helvetica,sans-serif; font-size:12; text-anchor:end;\" transform=\"rotate(0, 33.1651, 21.1412)\" x=\"33.1651\" y=\"21.1412\">0.25</text>\n",
       "</g>\n",
       "<polyline clip-path=\"url(#clip9202)\" style=\"stroke:#009af9; stroke-width:1; stroke-opacity:1; fill:none\" points=\"\n",
       "  54.4806,365.565 105.533,353.25 156.584,305.359 207.636,202.734 258.688,79.5844 309.74,22.1145 360.792,79.5844 411.844,202.734 462.896,305.359 513.948,353.25 \n",
       "  564.999,365.565 \n",
       "  \"/>\n",
       "<circle clip-path=\"url(#clip9202)\" style=\"fill:#000000; stroke:none; fill-opacity:1\" cx=\"54.4806\" cy=\"365.565\" r=\"4\"/>\n",
       "<circle clip-path=\"url(#clip9202)\" style=\"fill:#009af9; stroke:none; fill-opacity:1\" cx=\"54.4806\" cy=\"365.565\" r=\"3\"/>\n",
       "<circle clip-path=\"url(#clip9202)\" style=\"fill:#000000; stroke:none; fill-opacity:1\" cx=\"105.533\" cy=\"353.25\" r=\"4\"/>\n",
       "<circle clip-path=\"url(#clip9202)\" style=\"fill:#009af9; stroke:none; fill-opacity:1\" cx=\"105.533\" cy=\"353.25\" r=\"3\"/>\n",
       "<circle clip-path=\"url(#clip9202)\" style=\"fill:#000000; stroke:none; fill-opacity:1\" cx=\"156.584\" cy=\"305.359\" r=\"4\"/>\n",
       "<circle clip-path=\"url(#clip9202)\" style=\"fill:#009af9; stroke:none; fill-opacity:1\" cx=\"156.584\" cy=\"305.359\" r=\"3\"/>\n",
       "<circle clip-path=\"url(#clip9202)\" style=\"fill:#000000; stroke:none; fill-opacity:1\" cx=\"207.636\" cy=\"202.734\" r=\"4\"/>\n",
       "<circle clip-path=\"url(#clip9202)\" style=\"fill:#009af9; stroke:none; fill-opacity:1\" cx=\"207.636\" cy=\"202.734\" r=\"3\"/>\n",
       "<circle clip-path=\"url(#clip9202)\" style=\"fill:#000000; stroke:none; fill-opacity:1\" cx=\"258.688\" cy=\"79.5844\" r=\"4\"/>\n",
       "<circle clip-path=\"url(#clip9202)\" style=\"fill:#009af9; stroke:none; fill-opacity:1\" cx=\"258.688\" cy=\"79.5844\" r=\"3\"/>\n",
       "<circle clip-path=\"url(#clip9202)\" style=\"fill:#000000; stroke:none; fill-opacity:1\" cx=\"309.74\" cy=\"22.1145\" r=\"4\"/>\n",
       "<circle clip-path=\"url(#clip9202)\" style=\"fill:#009af9; stroke:none; fill-opacity:1\" cx=\"309.74\" cy=\"22.1145\" r=\"3\"/>\n",
       "<circle clip-path=\"url(#clip9202)\" style=\"fill:#000000; stroke:none; fill-opacity:1\" cx=\"360.792\" cy=\"79.5844\" r=\"4\"/>\n",
       "<circle clip-path=\"url(#clip9202)\" style=\"fill:#009af9; stroke:none; fill-opacity:1\" cx=\"360.792\" cy=\"79.5844\" r=\"3\"/>\n",
       "<circle clip-path=\"url(#clip9202)\" style=\"fill:#000000; stroke:none; fill-opacity:1\" cx=\"411.844\" cy=\"202.734\" r=\"4\"/>\n",
       "<circle clip-path=\"url(#clip9202)\" style=\"fill:#009af9; stroke:none; fill-opacity:1\" cx=\"411.844\" cy=\"202.734\" r=\"3\"/>\n",
       "<circle clip-path=\"url(#clip9202)\" style=\"fill:#000000; stroke:none; fill-opacity:1\" cx=\"462.896\" cy=\"305.359\" r=\"4\"/>\n",
       "<circle clip-path=\"url(#clip9202)\" style=\"fill:#009af9; stroke:none; fill-opacity:1\" cx=\"462.896\" cy=\"305.359\" r=\"3\"/>\n",
       "<circle clip-path=\"url(#clip9202)\" style=\"fill:#000000; stroke:none; fill-opacity:1\" cx=\"513.948\" cy=\"353.25\" r=\"4\"/>\n",
       "<circle clip-path=\"url(#clip9202)\" style=\"fill:#009af9; stroke:none; fill-opacity:1\" cx=\"513.948\" cy=\"353.25\" r=\"3\"/>\n",
       "<circle clip-path=\"url(#clip9202)\" style=\"fill:#000000; stroke:none; fill-opacity:1\" cx=\"564.999\" cy=\"365.565\" r=\"4\"/>\n",
       "<circle clip-path=\"url(#clip9202)\" style=\"fill:#009af9; stroke:none; fill-opacity:1\" cx=\"564.999\" cy=\"365.565\" r=\"3\"/>\n",
       "<polygon clip-path=\"url(#clip9200)\" points=\"\n",
       "489.608,62.931 562.315,62.931 562.315,32.691 489.608,32.691 \n",
       "  \" fill=\"#ffffff\" fill-opacity=\"1\"/>\n",
       "<polyline clip-path=\"url(#clip9200)\" style=\"stroke:#000000; stroke-width:1; stroke-opacity:1; fill:none\" points=\"\n",
       "  489.608,62.931 562.315,62.931 562.315,32.691 489.608,32.691 489.608,62.931 \n",
       "  \"/>\n",
       "<circle clip-path=\"url(#clip9200)\" style=\"fill:#000000; stroke:none; fill-opacity:1\" cx=\"516.608\" cy=\"47.811\" r=\"6\"/>\n",
       "<circle clip-path=\"url(#clip9200)\" style=\"fill:#009af9; stroke:none; fill-opacity:1\" cx=\"516.608\" cy=\"47.811\" r=\"5\"/>\n",
       "<g clip-path=\"url(#clip9200)\">\n",
       "<text style=\"fill:#000000; fill-opacity:1; font-family:Arial,Helvetica Neue,Helvetica,sans-serif; font-size:12; text-anchor:start;\" transform=\"rotate(0, 537.608, 52.311)\" x=\"537.608\" y=\"52.311\">y1</text>\n",
       "</g>\n",
       "</svg>\n"
      ]
     },
     "execution_count": 14,
     "metadata": {},
     "output_type": "execute_result"
    }
   ],
   "source": [
    "using Distributions, StatPlots\n",
    "#Create a binomial distribution.  Number of successes with n samples and p prob of success\n",
    "N = 10\n",
    "p = 0.5\n",
    "dist = Binomial(N,p)\n",
    "plot(dist)"
   ]
  },
  {
   "cell_type": "code",
   "execution_count": 15,
   "metadata": {},
   "outputs": [
    {
     "name": "stdout",
     "output_type": "stream",
     "text": [
      "sample mean = 4.84, actual mean = 5.0\n"
     ]
    }
   ],
   "source": [
    "NSamples = 100\n",
    "draws = rand(dist, NSamples)\n",
    "println(\"sample mean = $(mean(draws)), actual mean = $(mean(dist))\")"
   ]
  },
  {
   "cell_type": "code",
   "execution_count": 16,
   "metadata": {},
   "outputs": [
    {
     "data": {
      "text/html": [
       "1.7526393207741668"
      ],
      "text/plain": [
       "1.7526393207741668"
      ]
     },
     "execution_count": 16,
     "metadata": {},
     "output_type": "execute_result"
    }
   ],
   "source": [
    "#To find the expectation of a function, for example E( log(n+1) )\n",
    "distpdf = pdf.(dist, support(dist))\n",
    "\n",
    "expec = [log(n+1) for n = 0:N] ⋅ distpdf"
   ]
  },
  {
   "cell_type": "code",
   "execution_count": 17,
   "metadata": {},
   "outputs": [
    {
     "data": {
      "text/html": [
       "1.7327604454110306"
      ],
      "text/plain": [
       "1.7327604454110306"
      ]
     },
     "execution_count": 17,
     "metadata": {},
     "output_type": "execute_result"
    }
   ],
   "source": [
    "expecrand = sum([log(n+1) for n in draws])/NSamples"
   ]
  }
 ],
 "metadata": {
  "kernelspec": {
   "display_name": "Julia 0.6.2",
   "language": "julia",
   "name": "julia-0.6"
  },
  "language_info": {
   "file_extension": ".jl",
   "mimetype": "application/julia",
   "name": "julia",
   "version": "0.6.2"
  }
 },
 "nbformat": 4,
 "nbformat_minor": 2
}

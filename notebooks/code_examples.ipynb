{
 "cells": [
  {
   "cell_type": "markdown",
   "metadata": {},
   "source": [
    "## Higher order functions"
   ]
  },
  {
   "cell_type": "code",
   "execution_count": 1,
   "metadata": {},
   "outputs": [
    {
     "data": {
      "text/plain": [
       "twice (generic function with 1 method)"
      ]
     },
     "execution_count": 1,
     "metadata": {},
     "output_type": "execute_result"
    }
   ],
   "source": [
    "twice(f,x) = f(f(x))"
   ]
  },
  {
   "cell_type": "code",
   "execution_count": 4,
   "metadata": {},
   "outputs": [
    {
     "data": {
      "text/plain": [
       "16.0"
      ]
     },
     "execution_count": 4,
     "metadata": {},
     "output_type": "execute_result"
    }
   ],
   "source": [
    "f(x) = x^2\n",
    "twice(f, 2.0)\n",
    "twice(x -> x^2, 2.0) #Anonymous function"
   ]
  },
  {
   "cell_type": "markdown",
   "metadata": {},
   "source": [
    "## Array Comprehensions and Broadcasting"
   ]
  },
  {
   "cell_type": "code",
   "execution_count": 41,
   "metadata": {},
   "outputs": [
    {
     "data": {
      "text/plain": [
       "5×1 Array{Float64,2}:\n",
       "  1.0\n",
       "  4.0\n",
       "  9.0\n",
       " 16.0\n",
       " 25.0"
      ]
     },
     "execution_count": 41,
     "metadata": {},
     "output_type": "execute_result"
    }
   ],
   "source": [
    "y = ones(5,1)\n",
    "for i in 1:5\n",
    "    y[i] = f(i)\n",
    "end\n",
    "y"
   ]
  },
  {
   "cell_type": "code",
   "execution_count": 34,
   "metadata": {},
   "outputs": [
    {
     "data": {
      "text/plain": [
       "5-element Array{Int64,1}:\n",
       "  1\n",
       "  4\n",
       "  9\n",
       " 16\n",
       " 25"
      ]
     },
     "execution_count": 34,
     "metadata": {},
     "output_type": "execute_result"
    }
   ],
   "source": [
    "f.(1:5) #Broadcast"
   ]
  },
  {
   "cell_type": "code",
   "execution_count": 33,
   "metadata": {},
   "outputs": [
    {
     "data": {
      "text/plain": [
       "5-element Array{Int64,1}:\n",
       "  1\n",
       "  4\n",
       "  9\n",
       " 16\n",
       " 25"
      ]
     },
     "execution_count": 33,
     "metadata": {},
     "output_type": "execute_result"
    }
   ],
   "source": [
    "[f(x) for x in 1:5] #comprehension"
   ]
  },
  {
   "cell_type": "code",
   "execution_count": 11,
   "metadata": {},
   "outputs": [
    {
     "data": {
      "text/plain": [
       "5×5 Array{Tuple{Int64,Int64},2}:\n",
       " (2, 1)  (3, 2)   (4, 3)   (5, 4)   (6, 5)  \n",
       " (3, 2)  (4, 4)   (5, 6)   (6, 8)   (7, 10) \n",
       " (4, 3)  (5, 6)   (6, 9)   (7, 12)  (8, 15) \n",
       " (5, 4)  (6, 8)   (7, 12)  (8, 16)  (9, 20) \n",
       " (6, 5)  (7, 10)  (8, 15)  (9, 20)  (10, 25)"
      ]
     },
     "execution_count": 11,
     "metadata": {},
     "output_type": "execute_result"
    }
   ],
   "source": [
    "[(x + y, x*y) for x in 1:5, y in 1:5] #Make a multiplication and addition table"
   ]
  },
  {
   "cell_type": "code",
   "execution_count": 19,
   "metadata": {},
   "outputs": [
    {
     "data": {
      "text/html": [
       "<?xml version=\"1.0\" encoding=\"utf-8\"?>\n",
       "<svg xmlns=\"http://www.w3.org/2000/svg\" xmlns:xlink=\"http://www.w3.org/1999/xlink\" width=\"600\" height=\"400\" viewBox=\"0 0 600 400\">\n",
       "<defs>\n",
       "  <clipPath id=\"clip2000\">\n",
       "    <rect x=\"0\" y=\"0\" width=\"600\" height=\"400\"/>\n",
       "  </clipPath>\n",
       "</defs>\n",
       "<polygon clip-path=\"url(#clip2000)\" points=\"\n",
       "0,400 600,400 600,0 0,0 \n",
       "  \" fill=\"#ffffff\" fill-opacity=\"1\"/>\n",
       "<defs>\n",
       "  <clipPath id=\"clip2001\">\n",
       "    <rect x=\"120\" y=\"0\" width=\"421\" height=\"400\"/>\n",
       "  </clipPath>\n",
       "</defs>\n",
       "<polygon clip-path=\"url(#clip2000)\" points=\"\n",
       "32.2221,375.813 580.315,375.813 580.315,11.811 32.2221,11.811 \n",
       "  \" fill=\"#ffffff\" fill-opacity=\"1\"/>\n",
       "<defs>\n",
       "  <clipPath id=\"clip2002\">\n",
       "    <rect x=\"32\" y=\"11\" width=\"549\" height=\"365\"/>\n",
       "  </clipPath>\n",
       "</defs>\n",
       "<polyline clip-path=\"url(#clip2002)\" style=\"stroke:#000000; stroke-width:0.5; stroke-opacity:0.1; fill:none\" points=\"\n",
       "  32.2221,375.813 32.2221,11.811 \n",
       "  \"/>\n",
       "<polyline clip-path=\"url(#clip2002)\" style=\"stroke:#000000; stroke-width:0.5; stroke-opacity:0.1; fill:none\" points=\"\n",
       "  141.841,375.813 141.841,11.811 \n",
       "  \"/>\n",
       "<polyline clip-path=\"url(#clip2002)\" style=\"stroke:#000000; stroke-width:0.5; stroke-opacity:0.1; fill:none\" points=\"\n",
       "  251.459,375.813 251.459,11.811 \n",
       "  \"/>\n",
       "<polyline clip-path=\"url(#clip2002)\" style=\"stroke:#000000; stroke-width:0.5; stroke-opacity:0.1; fill:none\" points=\"\n",
       "  361.078,375.813 361.078,11.811 \n",
       "  \"/>\n",
       "<polyline clip-path=\"url(#clip2002)\" style=\"stroke:#000000; stroke-width:0.5; stroke-opacity:0.1; fill:none\" points=\"\n",
       "  470.696,375.813 470.696,11.811 \n",
       "  \"/>\n",
       "<polyline clip-path=\"url(#clip2002)\" style=\"stroke:#000000; stroke-width:0.5; stroke-opacity:0.1; fill:none\" points=\"\n",
       "  580.315,375.813 580.315,11.811 \n",
       "  \"/>\n",
       "<polyline clip-path=\"url(#clip2002)\" style=\"stroke:#000000; stroke-width:0.5; stroke-opacity:0.1; fill:none\" points=\"\n",
       "  32.2221,342.803 580.315,342.803 \n",
       "  \"/>\n",
       "<polyline clip-path=\"url(#clip2002)\" style=\"stroke:#000000; stroke-width:0.5; stroke-opacity:0.1; fill:none\" points=\"\n",
       "  32.2221,287.637 580.315,287.637 \n",
       "  \"/>\n",
       "<polyline clip-path=\"url(#clip2002)\" style=\"stroke:#000000; stroke-width:0.5; stroke-opacity:0.1; fill:none\" points=\"\n",
       "  32.2221,232.472 580.315,232.472 \n",
       "  \"/>\n",
       "<polyline clip-path=\"url(#clip2002)\" style=\"stroke:#000000; stroke-width:0.5; stroke-opacity:0.1; fill:none\" points=\"\n",
       "  32.2221,177.307 580.315,177.307 \n",
       "  \"/>\n",
       "<polyline clip-path=\"url(#clip2002)\" style=\"stroke:#000000; stroke-width:0.5; stroke-opacity:0.1; fill:none\" points=\"\n",
       "  32.2221,122.142 580.315,122.142 \n",
       "  \"/>\n",
       "<polyline clip-path=\"url(#clip2002)\" style=\"stroke:#000000; stroke-width:0.5; stroke-opacity:0.1; fill:none\" points=\"\n",
       "  32.2221,66.9763 580.315,66.9763 \n",
       "  \"/>\n",
       "<polyline clip-path=\"url(#clip2002)\" style=\"stroke:#000000; stroke-width:0.5; stroke-opacity:0.1; fill:none\" points=\"\n",
       "  32.2221,11.811 580.315,11.811 \n",
       "  \"/>\n",
       "<polyline clip-path=\"url(#clip2000)\" style=\"stroke:#000000; stroke-width:1; stroke-opacity:1; fill:none\" points=\"\n",
       "  32.2221,375.813 580.315,375.813 \n",
       "  \"/>\n",
       "<polyline clip-path=\"url(#clip2000)\" style=\"stroke:#000000; stroke-width:1; stroke-opacity:1; fill:none\" points=\"\n",
       "  32.2221,375.813 32.2221,11.811 \n",
       "  \"/>\n",
       "<polyline clip-path=\"url(#clip2000)\" style=\"stroke:#000000; stroke-width:1; stroke-opacity:1; fill:none\" points=\"\n",
       "  32.2221,375.813 32.2221,370.353 \n",
       "  \"/>\n",
       "<polyline clip-path=\"url(#clip2000)\" style=\"stroke:#000000; stroke-width:1; stroke-opacity:1; fill:none\" points=\"\n",
       "  141.841,375.813 141.841,370.353 \n",
       "  \"/>\n",
       "<polyline clip-path=\"url(#clip2000)\" style=\"stroke:#000000; stroke-width:1; stroke-opacity:1; fill:none\" points=\"\n",
       "  251.459,375.813 251.459,370.353 \n",
       "  \"/>\n",
       "<polyline clip-path=\"url(#clip2000)\" style=\"stroke:#000000; stroke-width:1; stroke-opacity:1; fill:none\" points=\"\n",
       "  361.078,375.813 361.078,370.353 \n",
       "  \"/>\n",
       "<polyline clip-path=\"url(#clip2000)\" style=\"stroke:#000000; stroke-width:1; stroke-opacity:1; fill:none\" points=\"\n",
       "  470.696,375.813 470.696,370.353 \n",
       "  \"/>\n",
       "<polyline clip-path=\"url(#clip2000)\" style=\"stroke:#000000; stroke-width:1; stroke-opacity:1; fill:none\" points=\"\n",
       "  580.315,375.813 580.315,370.353 \n",
       "  \"/>\n",
       "<polyline clip-path=\"url(#clip2000)\" style=\"stroke:#000000; stroke-width:1; stroke-opacity:1; fill:none\" points=\"\n",
       "  32.2221,342.803 40.4435,342.803 \n",
       "  \"/>\n",
       "<polyline clip-path=\"url(#clip2000)\" style=\"stroke:#000000; stroke-width:1; stroke-opacity:1; fill:none\" points=\"\n",
       "  32.2221,287.637 40.4435,287.637 \n",
       "  \"/>\n",
       "<polyline clip-path=\"url(#clip2000)\" style=\"stroke:#000000; stroke-width:1; stroke-opacity:1; fill:none\" points=\"\n",
       "  32.2221,232.472 40.4435,232.472 \n",
       "  \"/>\n",
       "<polyline clip-path=\"url(#clip2000)\" style=\"stroke:#000000; stroke-width:1; stroke-opacity:1; fill:none\" points=\"\n",
       "  32.2221,177.307 40.4435,177.307 \n",
       "  \"/>\n",
       "<polyline clip-path=\"url(#clip2000)\" style=\"stroke:#000000; stroke-width:1; stroke-opacity:1; fill:none\" points=\"\n",
       "  32.2221,122.142 40.4435,122.142 \n",
       "  \"/>\n",
       "<polyline clip-path=\"url(#clip2000)\" style=\"stroke:#000000; stroke-width:1; stroke-opacity:1; fill:none\" points=\"\n",
       "  32.2221,66.9763 40.4435,66.9763 \n",
       "  \"/>\n",
       "<polyline clip-path=\"url(#clip2000)\" style=\"stroke:#000000; stroke-width:1; stroke-opacity:1; fill:none\" points=\"\n",
       "  32.2221,11.811 40.4435,11.811 \n",
       "  \"/>\n",
       "<g clip-path=\"url(#clip2000)\">\n",
       "<text style=\"fill:#000000; fill-opacity:1; font-family:Arial,Helvetica Neue,Helvetica,sans-serif; font-size:12; text-anchor:middle;\" transform=\"rotate(0, 32.2221, 389.613)\" x=\"32.2221\" y=\"389.613\">1</text>\n",
       "</g>\n",
       "<g clip-path=\"url(#clip2000)\">\n",
       "<text style=\"fill:#000000; fill-opacity:1; font-family:Arial,Helvetica Neue,Helvetica,sans-serif; font-size:12; text-anchor:middle;\" transform=\"rotate(0, 141.841, 389.613)\" x=\"141.841\" y=\"389.613\">2</text>\n",
       "</g>\n",
       "<g clip-path=\"url(#clip2000)\">\n",
       "<text style=\"fill:#000000; fill-opacity:1; font-family:Arial,Helvetica Neue,Helvetica,sans-serif; font-size:12; text-anchor:middle;\" transform=\"rotate(0, 251.459, 389.613)\" x=\"251.459\" y=\"389.613\">3</text>\n",
       "</g>\n",
       "<g clip-path=\"url(#clip2000)\">\n",
       "<text style=\"fill:#000000; fill-opacity:1; font-family:Arial,Helvetica Neue,Helvetica,sans-serif; font-size:12; text-anchor:middle;\" transform=\"rotate(0, 361.078, 389.613)\" x=\"361.078\" y=\"389.613\">4</text>\n",
       "</g>\n",
       "<g clip-path=\"url(#clip2000)\">\n",
       "<text style=\"fill:#000000; fill-opacity:1; font-family:Arial,Helvetica Neue,Helvetica,sans-serif; font-size:12; text-anchor:middle;\" transform=\"rotate(0, 470.696, 389.613)\" x=\"470.696\" y=\"389.613\">5</text>\n",
       "</g>\n",
       "<g clip-path=\"url(#clip2000)\">\n",
       "<text style=\"fill:#000000; fill-opacity:1; font-family:Arial,Helvetica Neue,Helvetica,sans-serif; font-size:12; text-anchor:middle;\" transform=\"rotate(0, 580.315, 389.613)\" x=\"580.315\" y=\"389.613\">6</text>\n",
       "</g>\n",
       "<g clip-path=\"url(#clip2000)\">\n",
       "<text style=\"fill:#000000; fill-opacity:1; font-family:Arial,Helvetica Neue,Helvetica,sans-serif; font-size:12; text-anchor:end;\" transform=\"rotate(0, 26.2221, 347.303)\" x=\"26.2221\" y=\"347.303\">0.4</text>\n",
       "</g>\n",
       "<g clip-path=\"url(#clip2000)\">\n",
       "<text style=\"fill:#000000; fill-opacity:1; font-family:Arial,Helvetica Neue,Helvetica,sans-serif; font-size:12; text-anchor:end;\" transform=\"rotate(0, 26.2221, 292.137)\" x=\"26.2221\" y=\"292.137\">0.5</text>\n",
       "</g>\n",
       "<g clip-path=\"url(#clip2000)\">\n",
       "<text style=\"fill:#000000; fill-opacity:1; font-family:Arial,Helvetica Neue,Helvetica,sans-serif; font-size:12; text-anchor:end;\" transform=\"rotate(0, 26.2221, 236.972)\" x=\"26.2221\" y=\"236.972\">0.6</text>\n",
       "</g>\n",
       "<g clip-path=\"url(#clip2000)\">\n",
       "<text style=\"fill:#000000; fill-opacity:1; font-family:Arial,Helvetica Neue,Helvetica,sans-serif; font-size:12; text-anchor:end;\" transform=\"rotate(0, 26.2221, 181.807)\" x=\"26.2221\" y=\"181.807\">0.7</text>\n",
       "</g>\n",
       "<g clip-path=\"url(#clip2000)\">\n",
       "<text style=\"fill:#000000; fill-opacity:1; font-family:Arial,Helvetica Neue,Helvetica,sans-serif; font-size:12; text-anchor:end;\" transform=\"rotate(0, 26.2221, 126.642)\" x=\"26.2221\" y=\"126.642\">0.8</text>\n",
       "</g>\n",
       "<g clip-path=\"url(#clip2000)\">\n",
       "<text style=\"fill:#000000; fill-opacity:1; font-family:Arial,Helvetica Neue,Helvetica,sans-serif; font-size:12; text-anchor:end;\" transform=\"rotate(0, 26.2221, 71.4763)\" x=\"26.2221\" y=\"71.4763\">0.9</text>\n",
       "</g>\n",
       "<g clip-path=\"url(#clip2000)\">\n",
       "<text style=\"fill:#000000; fill-opacity:1; font-family:Arial,Helvetica Neue,Helvetica,sans-serif; font-size:12; text-anchor:end;\" transform=\"rotate(0, 26.2221, 16.311)\" x=\"26.2221\" y=\"16.311\">1.0</text>\n",
       "</g>\n",
       "<polyline clip-path=\"url(#clip2002)\" style=\"stroke:#009af9; stroke-width:1; stroke-opacity:1; fill:none\" points=\"\n",
       "  32.2221,11.811 141.841,232.472 251.459,320.736 361.078,356.042 470.696,370.165 580.315,375.813 \n",
       "  \"/>\n",
       "<polygon clip-path=\"url(#clip2000)\" points=\"\n",
       "489.799,62.931 562.315,62.931 562.315,32.691 489.799,32.691 \n",
       "  \" fill=\"#ffffff\" fill-opacity=\"1\"/>\n",
       "<polyline clip-path=\"url(#clip2000)\" style=\"stroke:#000000; stroke-width:1; stroke-opacity:1; fill:none\" points=\"\n",
       "  489.799,62.931 562.315,62.931 562.315,32.691 489.799,32.691 489.799,62.931 \n",
       "  \"/>\n",
       "<polyline clip-path=\"url(#clip2000)\" style=\"stroke:#009af9; stroke-width:1; stroke-opacity:1; fill:none\" points=\"\n",
       "  495.799,47.811 531.799,47.811 \n",
       "  \"/>\n",
       "<g clip-path=\"url(#clip2000)\">\n",
       "<text style=\"fill:#000000; fill-opacity:1; font-family:Arial,Helvetica Neue,Helvetica,sans-serif; font-size:12; text-anchor:start;\" transform=\"rotate(0, 537.799, 52.311)\" x=\"537.799\" y=\"52.311\">y1</text>\n",
       "</g>\n",
       "</svg>\n"
      ]
     },
     "execution_count": 19,
     "metadata": {},
     "output_type": "execute_result"
    }
   ],
   "source": [
    "P = [0.6 .4; .2 .8];\n",
    "ϕ0 = [1.0 0];\n",
    "\n",
    "#Calculate the transition dynamics of the markov chain\n",
    "ϕt = [ϕ0 * P^j for j in 0:5]\n",
    "\n",
    "#Plot \n",
    "using Plots\n",
    "gr()\n",
    "plot([ϕt[j][1] for j in 1:6]) #Gets the first one.\n",
    "plot([[1 0] * ϕt[j]' for j in 1:6]) #or multiplying by a vector to extract...\n"
   ]
  },
  {
   "cell_type": "markdown",
   "metadata": {},
   "source": [
    "## Interpolation"
   ]
  },
  {
   "cell_type": "code",
   "execution_count": 35,
   "metadata": {},
   "outputs": [
    {
     "data": {
      "text/plain": [
       "5-element Array{Float64,1}:\n",
       " 0.0   \n",
       " 0.0625\n",
       " 0.25  \n",
       " 0.5625\n",
       " 1.0   "
      ]
     },
     "execution_count": 35,
     "metadata": {},
     "output_type": "execute_result"
    }
   ],
   "source": [
    "using QuantEcon\n",
    "n = 5\n",
    "xvalues = linspace(0.0, 1.0, n) #grid over values.\n",
    "f_raw(x) = x^2\n",
    "yvalues = f_raw.(xvalues)\n"
   ]
  },
  {
   "cell_type": "code",
   "execution_count": 37,
   "metadata": {},
   "outputs": [
    {
     "data": {
      "text/plain": [
       "3-element Array{Float64,1}:\n",
       " 0.0525\n",
       " 0.1375\n",
       " 0.25  "
      ]
     },
     "execution_count": 37,
     "metadata": {},
     "output_type": "execute_result"
    }
   ],
   "source": [
    "f_int = LinInterp(xvalues, yvalues) #Creates a \"function\" which interpolates that data\n",
    "f_int(0.2)\n",
    "f_int.([0.21, 0.35, 0.5])"
   ]
  },
  {
   "cell_type": "code",
   "execution_count": 38,
   "metadata": {},
   "outputs": [
    {
     "data": {
      "text/html": [
       "<?xml version=\"1.0\" encoding=\"utf-8\"?>\n",
       "<svg xmlns=\"http://www.w3.org/2000/svg\" xmlns:xlink=\"http://www.w3.org/1999/xlink\" width=\"600\" height=\"400\" viewBox=\"0 0 600 400\">\n",
       "<defs>\n",
       "  <clipPath id=\"clip2400\">\n",
       "    <rect x=\"0\" y=\"0\" width=\"600\" height=\"400\"/>\n",
       "  </clipPath>\n",
       "</defs>\n",
       "<polygon clip-path=\"url(#clip2400)\" points=\"\n",
       "0,400 600,400 600,0 0,0 \n",
       "  \" fill=\"#ffffff\" fill-opacity=\"1\"/>\n",
       "<defs>\n",
       "  <clipPath id=\"clip2401\">\n",
       "    <rect x=\"120\" y=\"0\" width=\"421\" height=\"400\"/>\n",
       "  </clipPath>\n",
       "</defs>\n",
       "<polygon clip-path=\"url(#clip2400)\" points=\"\n",
       "32.2221,375.813 580.315,375.813 580.315,11.811 32.2221,11.811 \n",
       "  \" fill=\"#ffffff\" fill-opacity=\"1\"/>\n",
       "<defs>\n",
       "  <clipPath id=\"clip2402\">\n",
       "    <rect x=\"32\" y=\"11\" width=\"549\" height=\"365\"/>\n",
       "  </clipPath>\n",
       "</defs>\n",
       "<polyline clip-path=\"url(#clip2402)\" style=\"stroke:#000000; stroke-width:0.5; stroke-opacity:0.1; fill:none\" points=\"\n",
       "  32.2221,375.813 32.2221,11.811 \n",
       "  \"/>\n",
       "<polyline clip-path=\"url(#clip2402)\" style=\"stroke:#000000; stroke-width:0.5; stroke-opacity:0.1; fill:none\" points=\"\n",
       "  141.841,375.813 141.841,11.811 \n",
       "  \"/>\n",
       "<polyline clip-path=\"url(#clip2402)\" style=\"stroke:#000000; stroke-width:0.5; stroke-opacity:0.1; fill:none\" points=\"\n",
       "  251.459,375.813 251.459,11.811 \n",
       "  \"/>\n",
       "<polyline clip-path=\"url(#clip2402)\" style=\"stroke:#000000; stroke-width:0.5; stroke-opacity:0.1; fill:none\" points=\"\n",
       "  361.078,375.813 361.078,11.811 \n",
       "  \"/>\n",
       "<polyline clip-path=\"url(#clip2402)\" style=\"stroke:#000000; stroke-width:0.5; stroke-opacity:0.1; fill:none\" points=\"\n",
       "  470.696,375.813 470.696,11.811 \n",
       "  \"/>\n",
       "<polyline clip-path=\"url(#clip2402)\" style=\"stroke:#000000; stroke-width:0.5; stroke-opacity:0.1; fill:none\" points=\"\n",
       "  580.315,375.813 580.315,11.811 \n",
       "  \"/>\n",
       "<polyline clip-path=\"url(#clip2402)\" style=\"stroke:#000000; stroke-width:0.5; stroke-opacity:0.1; fill:none\" points=\"\n",
       "  32.2221,375.813 580.315,375.813 \n",
       "  \"/>\n",
       "<polyline clip-path=\"url(#clip2402)\" style=\"stroke:#000000; stroke-width:0.5; stroke-opacity:0.1; fill:none\" points=\"\n",
       "  32.2221,303.013 580.315,303.013 \n",
       "  \"/>\n",
       "<polyline clip-path=\"url(#clip2402)\" style=\"stroke:#000000; stroke-width:0.5; stroke-opacity:0.1; fill:none\" points=\"\n",
       "  32.2221,230.212 580.315,230.212 \n",
       "  \"/>\n",
       "<polyline clip-path=\"url(#clip2402)\" style=\"stroke:#000000; stroke-width:0.5; stroke-opacity:0.1; fill:none\" points=\"\n",
       "  32.2221,157.412 580.315,157.412 \n",
       "  \"/>\n",
       "<polyline clip-path=\"url(#clip2402)\" style=\"stroke:#000000; stroke-width:0.5; stroke-opacity:0.1; fill:none\" points=\"\n",
       "  32.2221,84.6115 580.315,84.6115 \n",
       "  \"/>\n",
       "<polyline clip-path=\"url(#clip2402)\" style=\"stroke:#000000; stroke-width:0.5; stroke-opacity:0.1; fill:none\" points=\"\n",
       "  32.2221,11.811 580.315,11.811 \n",
       "  \"/>\n",
       "<polyline clip-path=\"url(#clip2400)\" style=\"stroke:#000000; stroke-width:1; stroke-opacity:1; fill:none\" points=\"\n",
       "  32.2221,375.813 580.315,375.813 \n",
       "  \"/>\n",
       "<polyline clip-path=\"url(#clip2400)\" style=\"stroke:#000000; stroke-width:1; stroke-opacity:1; fill:none\" points=\"\n",
       "  32.2221,375.813 32.2221,11.811 \n",
       "  \"/>\n",
       "<polyline clip-path=\"url(#clip2400)\" style=\"stroke:#000000; stroke-width:1; stroke-opacity:1; fill:none\" points=\"\n",
       "  32.2221,375.813 32.2221,370.353 \n",
       "  \"/>\n",
       "<polyline clip-path=\"url(#clip2400)\" style=\"stroke:#000000; stroke-width:1; stroke-opacity:1; fill:none\" points=\"\n",
       "  141.841,375.813 141.841,370.353 \n",
       "  \"/>\n",
       "<polyline clip-path=\"url(#clip2400)\" style=\"stroke:#000000; stroke-width:1; stroke-opacity:1; fill:none\" points=\"\n",
       "  251.459,375.813 251.459,370.353 \n",
       "  \"/>\n",
       "<polyline clip-path=\"url(#clip2400)\" style=\"stroke:#000000; stroke-width:1; stroke-opacity:1; fill:none\" points=\"\n",
       "  361.078,375.813 361.078,370.353 \n",
       "  \"/>\n",
       "<polyline clip-path=\"url(#clip2400)\" style=\"stroke:#000000; stroke-width:1; stroke-opacity:1; fill:none\" points=\"\n",
       "  470.696,375.813 470.696,370.353 \n",
       "  \"/>\n",
       "<polyline clip-path=\"url(#clip2400)\" style=\"stroke:#000000; stroke-width:1; stroke-opacity:1; fill:none\" points=\"\n",
       "  580.315,375.813 580.315,370.353 \n",
       "  \"/>\n",
       "<polyline clip-path=\"url(#clip2400)\" style=\"stroke:#000000; stroke-width:1; stroke-opacity:1; fill:none\" points=\"\n",
       "  32.2221,375.813 40.4435,375.813 \n",
       "  \"/>\n",
       "<polyline clip-path=\"url(#clip2400)\" style=\"stroke:#000000; stroke-width:1; stroke-opacity:1; fill:none\" points=\"\n",
       "  32.2221,303.013 40.4435,303.013 \n",
       "  \"/>\n",
       "<polyline clip-path=\"url(#clip2400)\" style=\"stroke:#000000; stroke-width:1; stroke-opacity:1; fill:none\" points=\"\n",
       "  32.2221,230.212 40.4435,230.212 \n",
       "  \"/>\n",
       "<polyline clip-path=\"url(#clip2400)\" style=\"stroke:#000000; stroke-width:1; stroke-opacity:1; fill:none\" points=\"\n",
       "  32.2221,157.412 40.4435,157.412 \n",
       "  \"/>\n",
       "<polyline clip-path=\"url(#clip2400)\" style=\"stroke:#000000; stroke-width:1; stroke-opacity:1; fill:none\" points=\"\n",
       "  32.2221,84.6115 40.4435,84.6115 \n",
       "  \"/>\n",
       "<polyline clip-path=\"url(#clip2400)\" style=\"stroke:#000000; stroke-width:1; stroke-opacity:1; fill:none\" points=\"\n",
       "  32.2221,11.811 40.4435,11.811 \n",
       "  \"/>\n",
       "<g clip-path=\"url(#clip2400)\">\n",
       "<text style=\"fill:#000000; fill-opacity:1; font-family:Arial,Helvetica Neue,Helvetica,sans-serif; font-size:12; text-anchor:middle;\" transform=\"rotate(0, 32.2221, 389.613)\" x=\"32.2221\" y=\"389.613\">0.0</text>\n",
       "</g>\n",
       "<g clip-path=\"url(#clip2400)\">\n",
       "<text style=\"fill:#000000; fill-opacity:1; font-family:Arial,Helvetica Neue,Helvetica,sans-serif; font-size:12; text-anchor:middle;\" transform=\"rotate(0, 141.841, 389.613)\" x=\"141.841\" y=\"389.613\">0.2</text>\n",
       "</g>\n",
       "<g clip-path=\"url(#clip2400)\">\n",
       "<text style=\"fill:#000000; fill-opacity:1; font-family:Arial,Helvetica Neue,Helvetica,sans-serif; font-size:12; text-anchor:middle;\" transform=\"rotate(0, 251.459, 389.613)\" x=\"251.459\" y=\"389.613\">0.4</text>\n",
       "</g>\n",
       "<g clip-path=\"url(#clip2400)\">\n",
       "<text style=\"fill:#000000; fill-opacity:1; font-family:Arial,Helvetica Neue,Helvetica,sans-serif; font-size:12; text-anchor:middle;\" transform=\"rotate(0, 361.078, 389.613)\" x=\"361.078\" y=\"389.613\">0.6</text>\n",
       "</g>\n",
       "<g clip-path=\"url(#clip2400)\">\n",
       "<text style=\"fill:#000000; fill-opacity:1; font-family:Arial,Helvetica Neue,Helvetica,sans-serif; font-size:12; text-anchor:middle;\" transform=\"rotate(0, 470.696, 389.613)\" x=\"470.696\" y=\"389.613\">0.8</text>\n",
       "</g>\n",
       "<g clip-path=\"url(#clip2400)\">\n",
       "<text style=\"fill:#000000; fill-opacity:1; font-family:Arial,Helvetica Neue,Helvetica,sans-serif; font-size:12; text-anchor:middle;\" transform=\"rotate(0, 580.315, 389.613)\" x=\"580.315\" y=\"389.613\">1.0</text>\n",
       "</g>\n",
       "<g clip-path=\"url(#clip2400)\">\n",
       "<text style=\"fill:#000000; fill-opacity:1; font-family:Arial,Helvetica Neue,Helvetica,sans-serif; font-size:12; text-anchor:end;\" transform=\"rotate(0, 26.2221, 380.313)\" x=\"26.2221\" y=\"380.313\">0.0</text>\n",
       "</g>\n",
       "<g clip-path=\"url(#clip2400)\">\n",
       "<text style=\"fill:#000000; fill-opacity:1; font-family:Arial,Helvetica Neue,Helvetica,sans-serif; font-size:12; text-anchor:end;\" transform=\"rotate(0, 26.2221, 307.513)\" x=\"26.2221\" y=\"307.513\">0.2</text>\n",
       "</g>\n",
       "<g clip-path=\"url(#clip2400)\">\n",
       "<text style=\"fill:#000000; fill-opacity:1; font-family:Arial,Helvetica Neue,Helvetica,sans-serif; font-size:12; text-anchor:end;\" transform=\"rotate(0, 26.2221, 234.712)\" x=\"26.2221\" y=\"234.712\">0.4</text>\n",
       "</g>\n",
       "<g clip-path=\"url(#clip2400)\">\n",
       "<text style=\"fill:#000000; fill-opacity:1; font-family:Arial,Helvetica Neue,Helvetica,sans-serif; font-size:12; text-anchor:end;\" transform=\"rotate(0, 26.2221, 161.912)\" x=\"26.2221\" y=\"161.912\">0.6</text>\n",
       "</g>\n",
       "<g clip-path=\"url(#clip2400)\">\n",
       "<text style=\"fill:#000000; fill-opacity:1; font-family:Arial,Helvetica Neue,Helvetica,sans-serif; font-size:12; text-anchor:end;\" transform=\"rotate(0, 26.2221, 89.1115)\" x=\"26.2221\" y=\"89.1115\">0.8</text>\n",
       "</g>\n",
       "<g clip-path=\"url(#clip2400)\">\n",
       "<text style=\"fill:#000000; fill-opacity:1; font-family:Arial,Helvetica Neue,Helvetica,sans-serif; font-size:12; text-anchor:end;\" transform=\"rotate(0, 26.2221, 16.311)\" x=\"26.2221\" y=\"16.311\">1.0</text>\n",
       "</g>\n",
       "<polyline clip-path=\"url(#clip2402)\" style=\"stroke:#009af9; stroke-width:1; stroke-opacity:1; fill:none\" points=\"\n",
       "  32.2221,375.813 32.7702,375.813 33.3183,375.812 33.8664,375.81 34.4145,375.808 34.9626,375.804 35.5107,375.8 36.0588,375.796 36.6068,375.79 37.1549,375.784 \n",
       "  37.703,375.777 38.2511,375.769 38.7992,375.761 39.3473,375.752 39.8954,375.742 40.4435,375.732 40.9916,375.72 41.5397,375.708 42.0878,375.696 42.6359,375.682 \n",
       "  43.184,375.668 43.7321,375.653 44.2801,375.637 44.8282,375.621 45.3763,375.604 45.9244,375.586 46.4725,375.567 47.0206,375.548 47.5687,375.528 48.1168,375.507 \n",
       "  48.6649,375.486 49.213,375.464 49.7611,375.441 50.3092,375.417 50.8573,375.393 51.4054,375.368 51.9534,375.342 52.5015,375.315 53.0496,375.288 53.5977,375.26 \n",
       "  54.1458,375.231 54.6939,375.202 55.242,375.171 55.7901,375.14 56.3382,375.109 56.8863,375.076 57.4344,375.043 57.9825,375.009 58.5306,374.975 59.0787,374.939 \n",
       "  59.6267,374.903 60.1748,374.867 60.7229,374.829 61.271,374.791 61.8191,374.752 62.3672,374.712 62.9153,374.672 63.4634,374.631 64.0115,374.589 64.5596,374.546 \n",
       "  65.1077,374.503 65.6558,374.459 66.2039,374.414 66.752,374.369 67.3,374.322 67.8481,374.276 68.3962,374.228 68.9443,374.179 69.4924,374.13 70.0405,374.08 \n",
       "  70.5886,374.03 71.1367,373.979 71.6848,373.926 72.2329,373.874 72.781,373.82 73.3291,373.766 73.8772,373.711 74.4253,373.655 74.9733,373.599 75.5214,373.542 \n",
       "  76.0695,373.484 76.6176,373.425 77.1657,373.366 77.7138,373.306 78.2619,373.245 78.81,373.184 79.3581,373.121 79.9062,373.058 80.4543,372.995 81.0024,372.93 \n",
       "  81.5505,372.865 82.0986,372.799 82.6466,372.733 83.1947,372.665 83.7428,372.597 84.2909,372.528 84.839,372.459 85.3871,372.389 85.9352,372.318 86.4833,372.246 \n",
       "  87.0314,372.173 87.5795,372.1 88.1276,372.026 88.6757,371.952 89.2238,371.876 89.7719,371.8 90.3199,371.724 90.868,371.646 91.4161,371.568 91.9642,371.489 \n",
       "  92.5123,371.409 93.0604,371.329 93.6085,371.247 94.1566,371.166 94.7047,371.083 95.2528,371 95.8009,370.915 96.349,370.831 96.8971,370.745 97.4452,370.659 \n",
       "  97.9932,370.572 98.5413,370.484 99.0894,370.396 99.6375,370.306 100.186,370.217 100.734,370.126 101.282,370.035 101.83,369.942 102.378,369.85 102.926,369.756 \n",
       "  103.474,369.662 104.022,369.567 104.57,369.471 105.118,369.375 105.667,369.277 106.215,369.18 106.763,369.081 107.311,368.981 107.859,368.881 108.407,368.781 \n",
       "  108.955,368.679 109.503,368.577 110.051,368.474 110.599,368.37 111.147,368.265 111.696,368.16 112.244,368.054 112.792,367.948 113.34,367.84 113.888,367.732 \n",
       "  114.436,367.623 114.984,367.514 115.532,367.404 116.08,367.293 116.628,367.181 117.176,367.068 117.725,366.955 118.273,366.841 118.821,366.726 119.369,366.611 \n",
       "  119.917,366.495 120.465,366.378 121.013,366.261 121.561,366.142 122.109,366.023 122.657,365.903 123.206,365.783 123.754,365.662 124.302,365.54 124.85,365.417 \n",
       "  125.398,365.294 125.946,365.17 126.494,365.045 127.042,364.919 127.59,364.793 128.138,364.666 128.686,364.538 129.235,364.41 129.783,364.28 130.331,364.15 \n",
       "  130.879,364.02 131.427,363.888 131.975,363.756 132.523,363.623 133.071,363.49 133.619,363.355 134.167,363.22 134.715,363.085 135.264,362.948 135.812,362.811 \n",
       "  136.36,362.673 136.908,362.534 137.456,362.395 138.004,362.255 138.552,362.114 139.1,361.972 139.648,361.83 140.196,361.687 140.744,361.543 141.293,361.399 \n",
       "  141.841,361.253 142.389,361.107 142.937,360.961 143.485,360.813 144.033,360.665 144.581,360.516 145.129,360.367 145.677,360.216 146.225,360.065 146.774,359.913 \n",
       "  147.322,359.761 147.87,359.608 148.418,359.454 148.966,359.299 149.514,359.144 150.062,358.987 150.61,358.831 151.158,358.673 151.706,358.515 152.254,358.356 \n",
       "  152.803,358.196 153.351,358.035 153.899,357.874 154.447,357.712 154.995,357.549 155.543,357.386 156.091,357.222 156.639,357.057 157.187,356.891 157.735,356.725 \n",
       "  158.283,356.558 158.832,356.39 159.38,356.221 159.928,356.052 160.476,355.882 161.024,355.711 161.572,355.54 162.12,355.368 162.668,355.195 163.216,355.021 \n",
       "  163.764,354.847 164.312,354.672 164.861,354.496 165.409,354.319 165.957,354.142 166.505,353.964 167.053,353.785 167.601,353.606 168.149,353.426 168.697,353.245 \n",
       "  169.245,353.063 169.793,352.881 170.342,352.698 170.89,352.514 171.438,352.329 171.986,352.144 172.534,351.958 173.082,351.771 173.63,351.584 174.178,351.396 \n",
       "  174.726,351.207 175.274,351.017 175.822,350.827 176.371,350.636 176.919,350.444 177.467,350.251 178.015,350.058 178.563,349.864 179.111,349.669 179.659,349.474 \n",
       "  180.207,349.278 180.755,349.081 181.303,348.883 181.851,348.685 182.4,348.486 182.948,348.286 183.496,348.085 184.044,347.884 184.592,347.682 185.14,347.479 \n",
       "  185.688,347.276 186.236,347.071 186.784,346.867 187.332,346.661 187.88,346.454 188.429,346.247 188.977,346.04 189.525,345.831 190.073,345.622 190.621,345.412 \n",
       "  191.169,345.201 191.717,344.989 192.265,344.777 192.813,344.564 193.361,344.351 193.909,344.136 194.458,343.921 195.006,343.705 195.554,343.489 196.102,343.271 \n",
       "  196.65,343.053 197.198,342.834 197.746,342.615 198.294,342.395 198.842,342.174 199.39,341.952 199.939,341.73 200.487,341.507 201.035,341.283 201.583,341.058 \n",
       "  202.131,340.833 202.679,340.607 203.227,340.38 203.775,340.152 204.323,339.924 204.871,339.695 205.419,339.466 205.968,339.235 206.516,339.004 207.064,338.772 \n",
       "  207.612,338.54 208.16,338.306 208.708,338.072 209.256,337.837 209.804,337.602 210.352,337.366 210.9,337.129 211.448,336.891 211.997,336.653 212.545,336.413 \n",
       "  213.093,336.174 213.641,335.933 214.189,335.692 214.737,335.45 215.285,335.207 215.833,334.963 216.381,334.719 216.929,334.474 217.477,334.228 218.026,333.982 \n",
       "  218.574,333.735 219.122,333.487 219.67,333.238 220.218,332.989 220.766,332.739 221.314,332.488 221.862,332.237 222.41,331.984 222.958,331.731 223.507,331.478 \n",
       "  224.055,331.223 224.603,330.968 225.151,330.712 225.699,330.455 226.247,330.198 226.795,329.94 227.343,329.681 227.891,329.422 228.439,329.161 228.987,328.9 \n",
       "  229.536,328.639 230.084,328.376 230.632,328.113 231.18,327.849 231.728,327.585 232.276,327.319 232.824,327.053 233.372,326.786 233.92,326.519 234.468,326.251 \n",
       "  235.016,325.982 235.565,325.712 236.113,325.441 236.661,325.17 237.209,324.898 237.757,324.626 238.305,324.352 238.853,324.078 239.401,323.803 239.949,323.528 \n",
       "  240.497,323.251 241.045,322.974 241.594,322.697 242.142,322.418 242.69,322.139 243.238,321.859 243.786,321.579 244.334,321.297 244.882,321.015 245.43,320.732 \n",
       "  245.978,320.449 246.526,320.164 247.075,319.879 247.623,319.594 248.171,319.307 248.719,319.02 249.267,318.732 249.815,318.443 250.363,318.154 250.911,317.864 \n",
       "  251.459,317.573 252.007,317.281 252.555,316.989 253.104,316.696 253.652,316.402 254.2,316.108 254.748,315.813 255.296,315.517 255.844,315.22 256.392,314.923 \n",
       "  256.94,314.625 257.488,314.326 258.036,314.026 258.584,313.726 259.133,313.425 259.681,313.123 260.229,312.821 260.777,312.517 261.325,312.213 261.873,311.909 \n",
       "  262.421,311.603 262.969,311.297 263.517,310.99 264.065,310.683 264.613,310.375 265.162,310.066 265.71,309.756 266.258,309.445 266.806,309.134 267.354,308.822 \n",
       "  267.902,308.509 268.45,308.196 268.998,307.882 269.546,307.567 270.094,307.251 270.642,306.935 271.191,306.618 271.739,306.3 272.287,305.982 272.835,305.663 \n",
       "  273.383,305.343 273.931,305.022 274.479,304.7 275.027,304.378 275.575,304.055 276.123,303.732 276.672,303.408 277.22,303.082 277.768,302.757 278.316,302.43 \n",
       "  278.864,302.103 279.412,301.775 279.96,301.446 280.508,301.117 281.056,300.787 281.604,300.456 282.152,300.124 282.701,299.792 283.249,299.459 283.797,299.125 \n",
       "  284.345,298.791 284.893,298.455 285.441,298.119 285.989,297.783 286.537,297.445 287.085,297.107 287.633,296.768 288.181,296.429 288.73,296.088 289.278,295.747 \n",
       "  289.826,295.405 290.374,295.063 290.922,294.72 291.47,294.376 292.018,294.031 292.566,293.685 293.114,293.339 293.662,292.992 294.21,292.645 294.759,292.296 \n",
       "  295.307,291.947 295.855,291.597 296.403,291.247 296.951,290.896 297.499,290.544 298.047,290.191 298.595,289.838 299.143,289.483 299.691,289.128 300.24,288.773 \n",
       "  300.788,288.416 301.336,288.059 301.884,287.702 302.432,287.343 302.98,286.984 303.528,286.624 304.076,286.263 304.624,285.902 305.172,285.539 305.72,285.176 \n",
       "  306.269,284.813 306.817,284.448 307.365,284.083 307.913,283.718 308.461,283.351 309.009,282.984 309.557,282.616 310.105,282.247 310.653,281.878 311.201,281.507 \n",
       "  311.749,281.136 312.298,280.765 312.846,280.392 313.394,280.019 313.942,279.645 314.49,279.271 315.038,278.896 315.586,278.52 316.134,278.143 316.682,277.765 \n",
       "  317.23,277.387 317.778,277.008 318.327,276.629 318.875,276.248 319.423,275.867 319.971,275.485 320.519,275.103 321.067,274.719 321.615,274.335 322.163,273.951 \n",
       "  322.711,273.565 323.259,273.179 323.808,272.792 324.356,272.404 324.904,272.016 325.452,271.627 326,271.237 326.548,270.846 327.096,270.455 327.644,270.063 \n",
       "  328.192,269.67 328.74,269.277 329.288,268.883 329.837,268.488 330.385,268.092 330.933,267.696 331.481,267.299 332.029,266.901 332.577,266.502 333.125,266.103 \n",
       "  333.673,265.703 334.221,265.302 334.769,264.9 335.317,264.498 335.866,264.095 336.414,263.692 336.962,263.287 337.51,262.882 338.058,262.476 338.606,262.07 \n",
       "  339.154,261.662 339.702,261.254 340.25,260.845 340.798,260.436 341.346,260.026 341.895,259.615 342.443,259.203 342.991,258.791 343.539,258.378 344.087,257.964 \n",
       "  344.635,257.549 345.183,257.134 345.731,256.718 346.279,256.301 346.827,255.883 347.375,255.465 347.924,255.046 348.472,254.626 349.02,254.206 349.568,253.785 \n",
       "  350.116,253.363 350.664,252.94 351.212,252.517 351.76,252.093 352.308,251.668 352.856,251.243 353.405,250.816 353.953,250.389 354.501,249.962 355.049,249.533 \n",
       "  355.597,249.104 356.145,248.674 356.693,248.244 357.241,247.812 357.789,247.38 358.337,246.947 358.885,246.514 359.434,246.08 359.982,245.645 360.53,245.209 \n",
       "  361.078,244.773 361.626,244.335 362.174,243.898 362.722,243.459 363.27,243.02 363.818,242.579 364.366,242.139 364.914,241.697 365.463,241.255 366.011,240.812 \n",
       "  366.559,240.368 367.107,239.924 367.655,239.479 368.203,239.033 368.751,238.586 369.299,238.139 369.847,237.691 370.395,237.242 370.943,236.792 371.492,236.342 \n",
       "  372.04,235.891 372.588,235.439 373.136,234.987 373.684,234.534 374.232,234.08 374.78,233.625 375.328,233.17 375.876,232.714 376.424,232.257 376.973,231.799 \n",
       "  377.521,231.341 378.069,230.882 378.617,230.422 379.165,229.962 379.713,229.5 380.261,229.039 380.809,228.576 381.357,228.113 381.905,227.648 382.453,227.184 \n",
       "  383.002,226.718 383.55,226.252 384.098,225.785 384.646,225.317 385.194,224.849 385.742,224.379 386.29,223.909 386.838,223.439 387.386,222.967 387.934,222.495 \n",
       "  388.482,222.022 389.031,221.549 389.579,221.075 390.127,220.6 390.675,220.124 391.223,219.647 391.771,219.17 392.319,218.692 392.867,218.214 393.415,217.734 \n",
       "  393.963,217.254 394.511,216.773 395.06,216.292 395.608,215.809 396.156,215.326 396.704,214.842 397.252,214.358 397.8,213.873 398.348,213.387 398.896,212.9 \n",
       "  399.444,212.413 399.992,211.925 400.541,211.436 401.089,210.946 401.637,210.456 402.185,209.965 402.733,209.473 403.281,208.981 403.829,208.487 404.377,207.993 \n",
       "  404.925,207.499 405.473,207.003 406.021,206.507 406.57,206.01 407.118,205.513 407.666,205.014 408.214,204.515 408.762,204.016 409.31,203.515 409.858,203.014 \n",
       "  410.406,202.512 410.954,202.009 411.502,201.506 412.05,201.002 412.599,200.497 413.147,199.991 413.695,199.485 414.243,198.978 414.791,198.47 415.339,197.962 \n",
       "  415.887,197.452 416.435,196.942 416.983,196.432 417.531,195.92 418.079,195.408 418.628,194.895 419.176,194.382 419.724,193.867 420.272,193.352 420.82,192.836 \n",
       "  421.368,192.32 421.916,191.803 422.464,191.285 423.012,190.766 423.56,190.246 424.108,189.726 424.657,189.205 425.205,188.684 425.753,188.161 426.301,187.638 \n",
       "  426.849,187.115 427.397,186.59 427.945,186.065 428.493,185.539 429.041,185.012 429.589,184.485 430.138,183.957 430.686,183.428 431.234,182.898 431.782,182.368 \n",
       "  432.33,181.837 432.878,181.305 433.426,180.772 433.974,180.239 434.522,179.705 435.07,179.17 435.618,178.635 436.167,178.099 436.715,177.562 437.263,177.024 \n",
       "  437.811,176.486 438.359,175.947 438.907,175.407 439.455,174.866 440.003,174.325 440.551,173.783 441.099,173.24 441.647,172.697 442.196,172.153 442.744,171.608 \n",
       "  443.292,171.062 443.84,170.516 444.388,169.969 444.936,169.421 445.484,168.872 446.032,168.323 446.58,167.773 447.128,167.222 447.676,166.671 448.225,166.119 \n",
       "  448.773,165.566 449.321,165.012 449.869,164.458 450.417,163.903 450.965,163.347 451.513,162.79 452.061,162.233 452.609,161.675 453.157,161.116 453.706,160.557 \n",
       "  454.254,159.996 454.802,159.435 455.35,158.874 455.898,158.311 456.446,157.748 456.994,157.184 457.542,156.62 458.09,156.055 458.638,155.489 459.186,154.922 \n",
       "  459.735,154.354 460.283,153.786 460.831,153.217 461.379,152.648 461.927,152.077 462.475,151.506 463.023,150.934 463.571,150.362 464.119,149.788 464.667,149.214 \n",
       "  465.215,148.64 465.764,148.064 466.312,147.488 466.86,146.911 467.408,146.333 467.956,145.755 468.504,145.176 469.052,144.596 469.6,144.015 470.148,143.434 \n",
       "  470.696,142.852 471.244,142.269 471.793,141.686 472.341,141.101 472.889,140.516 473.437,139.931 473.985,139.344 474.533,138.757 475.081,138.169 475.629,137.581 \n",
       "  476.177,136.991 476.725,136.401 477.274,135.811 477.822,135.219 478.37,134.627 478.918,134.034 479.466,133.44 480.014,132.846 480.562,132.251 481.11,131.655 \n",
       "  481.658,131.058 482.206,130.461 482.754,129.863 483.303,129.264 483.851,128.665 484.399,128.064 484.947,127.463 485.495,126.862 486.043,126.259 486.591,125.656 \n",
       "  487.139,125.052 487.687,124.448 488.235,123.842 488.783,123.236 489.332,122.629 489.88,122.022 490.428,121.414 490.976,120.805 491.524,120.195 492.072,119.584 \n",
       "  492.62,118.973 493.168,118.361 493.716,117.749 494.264,117.135 494.812,116.521 495.361,115.907 495.909,115.291 496.457,114.675 497.005,114.058 497.553,113.44 \n",
       "  498.101,112.822 498.649,112.203 499.197,111.583 499.745,110.962 500.293,110.341 500.841,109.719 501.39,109.096 501.938,108.472 502.486,107.848 503.034,107.223 \n",
       "  503.582,106.597 504.13,105.971 504.678,105.344 505.226,104.716 505.774,104.087 506.322,103.458 506.871,102.828 507.419,102.197 507.967,101.565 508.515,100.933 \n",
       "  509.063,100.3 509.611,99.6663 510.159,99.0318 510.707,98.3966 511.255,97.7607 511.803,97.1241 512.351,96.4867 512.9,95.8486 513.448,95.2098 513.996,94.5703 \n",
       "  514.544,93.93 515.092,93.289 515.64,92.6472 516.188,92.0048 516.736,91.3616 517.284,90.7176 517.832,90.073 518.38,89.4276 518.929,88.7815 519.477,88.1347 \n",
       "  520.025,87.4871 520.573,86.8388 521.121,86.1898 521.669,85.5401 522.217,84.8896 522.765,84.2384 523.313,83.5865 523.861,82.9338 524.409,82.2804 524.958,81.6263 \n",
       "  525.506,80.9715 526.054,80.3159 526.602,79.6596 527.15,79.0026 527.698,78.3448 528.246,77.6864 528.794,77.0272 529.342,76.3672 529.89,75.7066 530.439,75.0452 \n",
       "  530.987,74.383 531.535,73.7202 532.083,73.0566 532.631,72.3923 533.179,71.7273 533.727,71.0615 534.275,70.395 534.823,69.7278 535.371,69.0599 535.919,68.3912 \n",
       "  536.468,67.7218 537.016,67.0517 537.564,66.3808 538.112,65.7092 538.66,65.0369 539.208,64.3639 539.756,63.6901 540.304,63.0156 540.852,62.3404 541.4,61.6644 \n",
       "  541.948,60.9878 542.497,60.3103 543.045,59.6322 543.593,58.9533 544.141,58.2737 544.689,57.5934 545.237,56.9124 545.785,56.2306 546.333,55.5481 546.881,54.8649 \n",
       "  547.429,54.1809 547.977,53.4962 548.526,52.8108 549.074,52.1247 549.622,51.4378 550.17,50.7502 550.718,50.0619 551.266,49.3728 551.814,48.683 552.362,47.9925 \n",
       "  552.91,47.3013 553.458,46.6093 554.007,45.9166 554.555,45.2232 555.103,44.529 555.651,43.8341 556.199,43.1385 556.747,42.4422 557.295,41.7451 557.843,41.0473 \n",
       "  558.391,40.3488 558.939,39.6496 559.487,38.9496 560.036,38.2489 560.584,37.5475 561.132,36.8453 561.68,36.1424 562.228,35.4388 562.776,34.7344 563.324,34.0294 \n",
       "  563.872,33.3236 564.42,32.617 564.968,31.9098 565.516,31.2018 566.065,30.4931 566.613,29.7836 567.161,29.0735 567.709,28.3626 568.257,27.651 568.805,26.9386 \n",
       "  569.353,26.2255 569.901,25.5117 570.449,24.7972 570.997,24.0819 571.545,23.3659 572.094,22.6492 572.642,21.9317 573.19,21.2136 573.738,20.4947 574.286,19.775 \n",
       "  574.834,19.0547 575.382,18.3336 575.93,17.6118 576.478,16.8892 577.026,16.1659 577.574,15.4419 578.123,14.7172 578.671,13.9918 579.219,13.2656 579.767,12.5387 \n",
       "  580.315,11.811 \n",
       "  \"/>\n",
       "<polyline clip-path=\"url(#clip2402)\" style=\"stroke:#e26f46; stroke-width:1; stroke-opacity:1; fill:none\" points=\"\n",
       "  32.2221,375.813 32.7702,375.722 33.3183,375.631 33.8664,375.54 34.4145,375.449 34.9626,375.358 35.5107,375.267 36.0588,375.176 36.6068,375.085 37.1549,374.994 \n",
       "  37.703,374.903 38.2511,374.812 38.7992,374.721 39.3473,374.63 39.8954,374.539 40.4435,374.448 40.9916,374.357 41.5397,374.266 42.0878,374.175 42.6359,374.084 \n",
       "  43.184,373.993 43.7321,373.902 44.2801,373.811 44.8282,373.72 45.3763,373.629 45.9244,373.538 46.4725,373.447 47.0206,373.356 47.5687,373.265 48.1168,373.174 \n",
       "  48.6649,373.083 49.213,372.992 49.7611,372.901 50.3092,372.81 50.8573,372.719 51.4054,372.628 51.9534,372.537 52.5015,372.446 53.0496,372.355 53.5977,372.264 \n",
       "  54.1458,372.173 54.6939,372.082 55.242,371.991 55.7901,371.9 56.3382,371.809 56.8863,371.718 57.4344,371.627 57.9825,371.536 58.5306,371.445 59.0787,371.354 \n",
       "  59.6267,371.263 60.1748,371.172 60.7229,371.081 61.271,370.99 61.8191,370.899 62.3672,370.808 62.9153,370.717 63.4634,370.626 64.0115,370.535 64.5596,370.444 \n",
       "  65.1077,370.353 65.6558,370.262 66.2039,370.171 66.752,370.08 67.3,369.989 67.8481,369.898 68.3962,369.807 68.9443,369.716 69.4924,369.625 70.0405,369.534 \n",
       "  70.5886,369.443 71.1367,369.352 71.6848,369.261 72.2329,369.17 72.781,369.079 73.3291,368.988 73.8772,368.897 74.4253,368.806 74.9733,368.715 75.5214,368.624 \n",
       "  76.0695,368.533 76.6176,368.442 77.1657,368.351 77.7138,368.26 78.2619,368.169 78.81,368.078 79.3581,367.987 79.9062,367.896 80.4543,367.805 81.0024,367.714 \n",
       "  81.5505,367.623 82.0986,367.532 82.6466,367.441 83.1947,367.35 83.7428,367.259 84.2909,367.168 84.839,367.077 85.3871,366.986 85.9352,366.895 86.4833,366.804 \n",
       "  87.0314,366.713 87.5795,366.622 88.1276,366.531 88.6757,366.44 89.2238,366.349 89.7719,366.258 90.3199,366.167 90.868,366.076 91.4161,365.985 91.9642,365.894 \n",
       "  92.5123,365.803 93.0604,365.712 93.6085,365.621 94.1566,365.53 94.7047,365.439 95.2528,365.348 95.8009,365.257 96.349,365.166 96.8971,365.075 97.4452,364.984 \n",
       "  97.9932,364.893 98.5413,364.802 99.0894,364.711 99.6375,364.62 100.186,364.529 100.734,364.438 101.282,364.347 101.83,364.256 102.378,364.165 102.926,364.074 \n",
       "  103.474,363.983 104.022,363.892 104.57,363.801 105.118,363.71 105.667,363.619 106.215,363.528 106.763,363.437 107.311,363.346 107.859,363.255 108.407,363.164 \n",
       "  108.955,363.073 109.503,362.982 110.051,362.891 110.599,362.8 111.147,362.709 111.696,362.618 112.244,362.527 112.792,362.436 113.34,362.345 113.888,362.254 \n",
       "  114.436,362.163 114.984,362.072 115.532,361.981 116.08,361.89 116.628,361.799 117.176,361.708 117.725,361.617 118.273,361.526 118.821,361.435 119.369,361.344 \n",
       "  119.917,361.253 120.465,361.162 121.013,361.071 121.561,360.98 122.109,360.889 122.657,360.798 123.206,360.707 123.754,360.616 124.302,360.525 124.85,360.434 \n",
       "  125.398,360.343 125.946,360.252 126.494,360.161 127.042,360.07 127.59,359.979 128.138,359.888 128.686,359.797 129.235,359.706 129.783,359.615 130.331,359.524 \n",
       "  130.879,359.433 131.427,359.342 131.975,359.251 132.523,359.16 133.071,359.069 133.619,358.978 134.167,358.887 134.715,358.796 135.264,358.705 135.812,358.614 \n",
       "  136.36,358.523 136.908,358.432 137.456,358.341 138.004,358.25 138.552,358.159 139.1,358.068 139.648,357.977 140.196,357.886 140.744,357.795 141.293,357.704 \n",
       "  141.841,357.613 142.389,357.522 142.937,357.431 143.485,357.34 144.033,357.249 144.581,357.158 145.129,357.067 145.677,356.976 146.225,356.885 146.774,356.794 \n",
       "  147.322,356.703 147.87,356.612 148.418,356.521 148.966,356.43 149.514,356.339 150.062,356.248 150.61,356.157 151.158,356.066 151.706,355.975 152.254,355.884 \n",
       "  152.803,355.793 153.351,355.702 153.899,355.611 154.447,355.52 154.995,355.429 155.543,355.338 156.091,355.247 156.639,355.156 157.187,355.065 157.735,354.974 \n",
       "  158.283,354.883 158.832,354.792 159.38,354.701 159.928,354.61 160.476,354.519 161.024,354.428 161.572,354.337 162.12,354.246 162.668,354.155 163.216,354.064 \n",
       "  163.764,353.973 164.312,353.882 164.861,353.791 165.409,353.7 165.957,353.609 166.505,353.518 167.053,353.427 167.601,353.336 168.149,353.245 168.697,353.154 \n",
       "  169.245,353.063 169.793,352.79 170.342,352.517 170.89,352.244 171.438,351.971 171.986,351.698 172.534,351.425 173.082,351.152 173.63,350.879 174.178,350.606 \n",
       "  174.726,350.333 175.274,350.06 175.822,349.787 176.371,349.514 176.919,349.241 177.467,348.968 178.015,348.695 178.563,348.422 179.111,348.149 179.659,347.876 \n",
       "  180.207,347.603 180.755,347.33 181.303,347.057 181.851,346.784 182.4,346.511 182.948,346.238 183.496,345.965 184.044,345.692 184.592,345.419 185.14,345.146 \n",
       "  185.688,344.873 186.236,344.6 186.784,344.327 187.332,344.054 187.88,343.781 188.429,343.508 188.977,343.235 189.525,342.962 190.073,342.689 190.621,342.416 \n",
       "  191.169,342.143 191.717,341.87 192.265,341.597 192.813,341.324 193.361,341.051 193.909,340.778 194.458,340.505 195.006,340.232 195.554,339.959 196.102,339.686 \n",
       "  196.65,339.413 197.198,339.14 197.746,338.867 198.294,338.594 198.842,338.321 199.39,338.048 199.939,337.775 200.487,337.502 201.035,337.229 201.583,336.956 \n",
       "  202.131,336.683 202.679,336.41 203.227,336.137 203.775,335.864 204.323,335.591 204.871,335.318 205.419,335.045 205.968,334.772 206.516,334.499 207.064,334.226 \n",
       "  207.612,333.953 208.16,333.68 208.708,333.407 209.256,333.134 209.804,332.861 210.352,332.588 210.9,332.315 211.448,332.042 211.997,331.769 212.545,331.496 \n",
       "  213.093,331.223 213.641,330.95 214.189,330.677 214.737,330.404 215.285,330.131 215.833,329.858 216.381,329.585 216.929,329.312 217.477,329.039 218.026,328.766 \n",
       "  218.574,328.493 219.122,328.22 219.67,327.947 220.218,327.674 220.766,327.401 221.314,327.128 221.862,326.855 222.41,326.582 222.958,326.309 223.507,326.036 \n",
       "  224.055,325.763 224.603,325.49 225.151,325.217 225.699,324.944 226.247,324.671 226.795,324.398 227.343,324.125 227.891,323.852 228.439,323.579 228.987,323.306 \n",
       "  229.536,323.033 230.084,322.76 230.632,322.487 231.18,322.214 231.728,321.941 232.276,321.668 232.824,321.395 233.372,321.122 233.92,320.849 234.468,320.576 \n",
       "  235.016,320.303 235.565,320.03 236.113,319.757 236.661,319.484 237.209,319.211 237.757,318.938 238.305,318.665 238.853,318.392 239.401,318.119 239.949,317.846 \n",
       "  240.497,317.573 241.045,317.3 241.594,317.027 242.142,316.754 242.69,316.481 243.238,316.208 243.786,315.935 244.334,315.662 244.882,315.389 245.43,315.116 \n",
       "  245.978,314.843 246.526,314.57 247.075,314.297 247.623,314.024 248.171,313.751 248.719,313.478 249.267,313.205 249.815,312.932 250.363,312.659 250.911,312.386 \n",
       "  251.459,312.113 252.007,311.84 252.555,311.567 253.104,311.294 253.652,311.021 254.2,310.748 254.748,310.475 255.296,310.202 255.844,309.929 256.392,309.656 \n",
       "  256.94,309.383 257.488,309.11 258.036,308.837 258.584,308.564 259.133,308.291 259.681,308.018 260.229,307.745 260.777,307.472 261.325,307.199 261.873,306.926 \n",
       "  262.421,306.653 262.969,306.38 263.517,306.107 264.065,305.834 264.613,305.561 265.162,305.288 265.71,305.015 266.258,304.742 266.806,304.469 267.354,304.196 \n",
       "  267.902,303.923 268.45,303.65 268.998,303.377 269.546,303.104 270.094,302.831 270.642,302.558 271.191,302.285 271.739,302.012 272.287,301.739 272.835,301.466 \n",
       "  273.383,301.193 273.931,300.92 274.479,300.647 275.027,300.374 275.575,300.101 276.123,299.828 276.672,299.555 277.22,299.282 277.768,299.009 278.316,298.736 \n",
       "  278.864,298.463 279.412,298.19 279.96,297.917 280.508,297.644 281.056,297.371 281.604,297.098 282.152,296.825 282.701,296.552 283.249,296.279 283.797,296.006 \n",
       "  284.345,295.733 284.893,295.46 285.441,295.187 285.989,294.914 286.537,294.641 287.085,294.368 287.633,294.095 288.181,293.822 288.73,293.549 289.278,293.276 \n",
       "  289.826,293.003 290.374,292.73 290.922,292.457 291.47,292.184 292.018,291.911 292.566,291.638 293.114,291.365 293.662,291.092 294.21,290.819 294.759,290.546 \n",
       "  295.307,290.273 295.855,290 296.403,289.727 296.951,289.454 297.499,289.181 298.047,288.908 298.595,288.635 299.143,288.362 299.691,288.089 300.24,287.816 \n",
       "  300.788,287.543 301.336,287.27 301.884,286.997 302.432,286.724 302.98,286.451 303.528,286.178 304.076,285.905 304.624,285.632 305.172,285.359 305.72,285.086 \n",
       "  306.269,284.813 306.817,284.358 307.365,283.903 307.913,283.448 308.461,282.993 309.009,282.538 309.557,282.083 310.105,281.628 310.653,281.173 311.201,280.718 \n",
       "  311.749,280.263 312.298,279.808 312.846,279.353 313.394,278.898 313.942,278.443 314.49,277.988 315.038,277.533 315.586,277.078 316.134,276.623 316.682,276.168 \n",
       "  317.23,275.713 317.778,275.258 318.327,274.803 318.875,274.348 319.423,273.893 319.971,273.438 320.519,272.983 321.067,272.528 321.615,272.073 322.163,271.618 \n",
       "  322.711,271.163 323.259,270.708 323.808,270.253 324.356,269.798 324.904,269.343 325.452,268.888 326,268.433 326.548,267.978 327.096,267.523 327.644,267.068 \n",
       "  328.192,266.613 328.74,266.158 329.288,265.703 329.837,265.248 330.385,264.793 330.933,264.338 331.481,263.883 332.029,263.428 332.577,262.973 333.125,262.518 \n",
       "  333.673,262.063 334.221,261.608 334.769,261.153 335.317,260.698 335.866,260.243 336.414,259.788 336.962,259.333 337.51,258.878 338.058,258.423 338.606,257.968 \n",
       "  339.154,257.513 339.702,257.058 340.25,256.603 340.798,256.148 341.346,255.693 341.895,255.238 342.443,254.783 342.991,254.328 343.539,253.873 344.087,253.418 \n",
       "  344.635,252.963 345.183,252.508 345.731,252.053 346.279,251.598 346.827,251.143 347.375,250.688 347.924,250.233 348.472,249.778 349.02,249.323 349.568,248.868 \n",
       "  350.116,248.413 350.664,247.958 351.212,247.503 351.76,247.048 352.308,246.593 352.856,246.138 353.405,245.683 353.953,245.228 354.501,244.773 355.049,244.318 \n",
       "  355.597,243.863 356.145,243.408 356.693,242.953 357.241,242.498 357.789,242.043 358.337,241.588 358.885,241.133 359.434,240.678 359.982,240.223 360.53,239.768 \n",
       "  361.078,239.313 361.626,238.858 362.174,238.403 362.722,237.948 363.27,237.493 363.818,237.038 364.366,236.583 364.914,236.128 365.463,235.673 366.011,235.218 \n",
       "  366.559,234.763 367.107,234.308 367.655,233.853 368.203,233.398 368.751,232.942 369.299,232.487 369.847,232.032 370.395,231.577 370.943,231.122 371.492,230.667 \n",
       "  372.04,230.212 372.588,229.757 373.136,229.302 373.684,228.847 374.232,228.392 374.78,227.937 375.328,227.482 375.876,227.027 376.424,226.572 376.973,226.117 \n",
       "  377.521,225.662 378.069,225.207 378.617,224.752 379.165,224.297 379.713,223.842 380.261,223.387 380.809,222.932 381.357,222.477 381.905,222.022 382.453,221.567 \n",
       "  383.002,221.112 383.55,220.657 384.098,220.202 384.646,219.747 385.194,219.292 385.742,218.837 386.29,218.382 386.838,217.927 387.386,217.472 387.934,217.017 \n",
       "  388.482,216.562 389.031,216.107 389.579,215.652 390.127,215.197 390.675,214.742 391.223,214.287 391.771,213.832 392.319,213.377 392.867,212.922 393.415,212.467 \n",
       "  393.963,212.012 394.511,211.557 395.06,211.102 395.608,210.647 396.156,210.192 396.704,209.737 397.252,209.282 397.8,208.827 398.348,208.372 398.896,207.917 \n",
       "  399.444,207.462 399.992,207.007 400.541,206.552 401.089,206.097 401.637,205.642 402.185,205.187 402.733,204.732 403.281,204.277 403.829,203.822 404.377,203.367 \n",
       "  404.925,202.912 405.473,202.457 406.021,202.002 406.57,201.547 407.118,201.092 407.666,200.637 408.214,200.182 408.762,199.727 409.31,199.272 409.858,198.817 \n",
       "  410.406,198.362 410.954,197.907 411.502,197.452 412.05,196.997 412.599,196.542 413.147,196.087 413.695,195.632 414.243,195.177 414.791,194.722 415.339,194.267 \n",
       "  415.887,193.812 416.435,193.357 416.983,192.902 417.531,192.447 418.079,191.992 418.628,191.537 419.176,191.082 419.724,190.627 420.272,190.172 420.82,189.717 \n",
       "  421.368,189.262 421.916,188.807 422.464,188.352 423.012,187.897 423.56,187.442 424.108,186.987 424.657,186.532 425.205,186.077 425.753,185.622 426.301,185.167 \n",
       "  426.849,184.712 427.397,184.257 427.945,183.802 428.493,183.347 429.041,182.892 429.589,182.437 430.138,181.982 430.686,181.527 431.234,181.072 431.782,180.617 \n",
       "  432.33,180.162 432.878,179.707 433.426,179.252 433.974,178.797 434.522,178.342 435.07,177.887 435.618,177.432 436.167,176.977 436.715,176.522 437.263,176.067 \n",
       "  437.811,175.612 438.359,175.157 438.907,174.702 439.455,174.247 440.003,173.792 440.551,173.337 441.099,172.882 441.647,172.427 442.196,171.972 442.744,171.517 \n",
       "  443.292,171.062 443.84,170.425 444.388,169.788 444.936,169.151 445.484,168.514 446.032,167.877 446.58,167.24 447.128,166.603 447.676,165.966 448.225,165.329 \n",
       "  448.773,164.692 449.321,164.055 449.869,163.418 450.417,162.781 450.965,162.144 451.513,161.507 452.061,160.87 452.609,160.233 453.157,159.596 453.706,158.959 \n",
       "  454.254,158.322 454.802,157.685 455.35,157.048 455.898,156.411 456.446,155.774 456.994,155.137 457.542,154.5 458.09,153.863 458.638,153.226 459.186,152.589 \n",
       "  459.735,151.952 460.283,151.315 460.831,150.678 461.379,150.041 461.927,149.404 462.475,148.767 463.023,148.13 463.571,147.493 464.119,146.856 464.667,146.219 \n",
       "  465.215,145.582 465.764,144.945 466.312,144.308 466.86,143.671 467.408,143.034 467.956,142.397 468.504,141.76 469.052,141.123 469.6,140.486 470.148,139.849 \n",
       "  470.696,139.212 471.244,138.575 471.793,137.938 472.341,137.301 472.889,136.664 473.437,136.027 473.985,135.39 474.533,134.753 475.081,134.116 475.629,133.479 \n",
       "  476.177,132.842 476.725,132.205 477.274,131.568 477.822,130.931 478.37,130.294 478.918,129.657 479.466,129.02 480.014,128.383 480.562,127.746 481.11,127.109 \n",
       "  481.658,126.472 482.206,125.835 482.754,125.198 483.303,124.561 483.851,123.924 484.399,123.287 484.947,122.65 485.495,122.013 486.043,121.376 486.591,120.739 \n",
       "  487.139,120.102 487.687,119.465 488.235,118.828 488.783,118.191 489.332,117.554 489.88,116.917 490.428,116.28 490.976,115.643 491.524,115.006 492.072,114.369 \n",
       "  492.62,113.732 493.168,113.095 493.716,112.458 494.264,111.821 494.812,111.184 495.361,110.547 495.909,109.91 496.457,109.273 497.005,108.636 497.553,107.999 \n",
       "  498.101,107.362 498.649,106.725 499.197,106.088 499.745,105.451 500.293,104.814 500.841,104.177 501.39,103.54 501.938,102.903 502.486,102.266 503.034,101.629 \n",
       "  503.582,100.992 504.13,100.355 504.678,99.7176 505.226,99.0806 505.774,98.4436 506.322,97.8066 506.871,97.1696 507.419,96.5326 507.967,95.8956 508.515,95.2586 \n",
       "  509.063,94.6216 509.611,93.9846 510.159,93.3476 510.707,92.7106 511.255,92.0736 511.803,91.4366 512.351,90.7996 512.9,90.1625 513.448,89.5255 513.996,88.8885 \n",
       "  514.544,88.2515 515.092,87.6145 515.64,86.9775 516.188,86.3405 516.736,85.7035 517.284,85.0665 517.832,84.4295 518.38,83.7925 518.929,83.1555 519.477,82.5185 \n",
       "  520.025,81.8815 520.573,81.2445 521.121,80.6075 521.669,79.9705 522.217,79.3335 522.765,78.6965 523.313,78.0595 523.861,77.4225 524.409,76.7855 524.958,76.1485 \n",
       "  525.506,75.5114 526.054,74.8744 526.602,74.2374 527.15,73.6004 527.698,72.9634 528.246,72.3264 528.794,71.6894 529.342,71.0524 529.89,70.4154 530.439,69.7784 \n",
       "  530.987,69.1414 531.535,68.5044 532.083,67.8674 532.631,67.2304 533.179,66.5934 533.727,65.9564 534.275,65.3194 534.823,64.6824 535.371,64.0454 535.919,63.4084 \n",
       "  536.468,62.7714 537.016,62.1344 537.564,61.4974 538.112,60.8604 538.66,60.2233 539.208,59.5863 539.756,58.9493 540.304,58.3123 540.852,57.6753 541.4,57.0383 \n",
       "  541.948,56.4013 542.497,55.7643 543.045,55.1273 543.593,54.4903 544.141,53.8533 544.689,53.2163 545.237,52.5793 545.785,51.9423 546.333,51.3053 546.881,50.6683 \n",
       "  547.429,50.0313 547.977,49.3943 548.526,48.7573 549.074,48.1203 549.622,47.4833 550.17,46.8463 550.718,46.2093 551.266,45.5722 551.814,44.9352 552.362,44.2982 \n",
       "  552.91,43.6612 553.458,43.0242 554.007,42.3872 554.555,41.7502 555.103,41.1132 555.651,40.4762 556.199,39.8392 556.747,39.2022 557.295,38.5652 557.843,37.9282 \n",
       "  558.391,37.2912 558.939,36.6542 559.487,36.0172 560.036,35.3802 560.584,34.7432 561.132,34.1062 561.68,33.4692 562.228,32.8322 562.776,32.1952 563.324,31.5582 \n",
       "  563.872,30.9212 564.42,30.2841 564.968,29.6471 565.516,29.0101 566.065,28.3731 566.613,27.7361 567.161,27.0991 567.709,26.4621 568.257,25.8251 568.805,25.1881 \n",
       "  569.353,24.5511 569.901,23.9141 570.449,23.2771 570.997,22.6401 571.545,22.0031 572.094,21.3661 572.642,20.7291 573.19,20.0921 573.738,19.4551 574.286,18.8181 \n",
       "  574.834,18.1811 575.382,17.5441 575.93,16.9071 576.478,16.2701 577.026,15.633 577.574,14.996 578.123,14.359 578.671,13.722 579.219,13.085 579.767,12.448 \n",
       "  580.315,11.811 \n",
       "  \"/>\n",
       "<polygon clip-path=\"url(#clip2400)\" points=\"\n",
       "489.799,78.051 562.315,78.051 562.315,32.691 489.799,32.691 \n",
       "  \" fill=\"#ffffff\" fill-opacity=\"1\"/>\n",
       "<polyline clip-path=\"url(#clip2400)\" style=\"stroke:#000000; stroke-width:1; stroke-opacity:1; fill:none\" points=\"\n",
       "  489.799,78.051 562.315,78.051 562.315,32.691 489.799,32.691 489.799,78.051 \n",
       "  \"/>\n",
       "<polyline clip-path=\"url(#clip2400)\" style=\"stroke:#009af9; stroke-width:1; stroke-opacity:1; fill:none\" points=\"\n",
       "  495.799,47.811 531.799,47.811 \n",
       "  \"/>\n",
       "<g clip-path=\"url(#clip2400)\">\n",
       "<text style=\"fill:#000000; fill-opacity:1; font-family:Arial,Helvetica Neue,Helvetica,sans-serif; font-size:12; text-anchor:start;\" transform=\"rotate(0, 537.799, 52.311)\" x=\"537.799\" y=\"52.311\">y1</text>\n",
       "</g>\n",
       "<polyline clip-path=\"url(#clip2400)\" style=\"stroke:#e26f46; stroke-width:1; stroke-opacity:1; fill:none\" points=\"\n",
       "  495.799,62.931 531.799,62.931 \n",
       "  \"/>\n",
       "<g clip-path=\"url(#clip2400)\">\n",
       "<text style=\"fill:#000000; fill-opacity:1; font-family:Arial,Helvetica Neue,Helvetica,sans-serif; font-size:12; text-anchor:start;\" transform=\"rotate(0, 537.799, 67.431)\" x=\"537.799\" y=\"67.431\">y2</text>\n",
       "</g>\n",
       "</svg>\n"
      ]
     },
     "execution_count": 38,
     "metadata": {},
     "output_type": "execute_result"
    }
   ],
   "source": [
    "xdata = 0.0:0.001:1.0\n",
    "ydata = [f_raw.(xdata), f_int.(xdata)]\n",
    "plot(xdata, ydata)"
   ]
  },
  {
   "cell_type": "markdown",
   "metadata": {},
   "source": [
    "## Expectations and Integration"
   ]
  },
  {
   "cell_type": "code",
   "execution_count": 58,
   "metadata": {},
   "outputs": [
    {
     "data": {
      "text/plain": [
       "Distributions.Binomial{Float64}(n=10, p=0.5)"
      ]
     },
     "execution_count": 58,
     "metadata": {},
     "output_type": "execute_result"
    }
   ],
   "source": [
    "using Distributions\n",
    "#Create a binomial distribution.  Number of successes with n samples and p prob of success\n",
    "N = 10\n",
    "p = 0.5\n",
    "dist = Binomial(N,p)"
   ]
  },
  {
   "cell_type": "code",
   "execution_count": 69,
   "metadata": {},
   "outputs": [
    {
     "name": "stdout",
     "output_type": "stream",
     "text": [
      "sample mean = 5.11, actual mean = 5.0\n"
     ]
    }
   ],
   "source": [
    "NSamples = 100\n",
    "draws = rand(dist, NSamples)\n",
    "println(\"sample mean = $(mean(draws)), actual mean = $(mean(dist))\")"
   ]
  },
  {
   "cell_type": "code",
   "execution_count": 72,
   "metadata": {},
   "outputs": [
    {
     "data": {
      "text/html": [
       "1.7526393207741668"
      ],
      "text/plain": [
       "1.7526393207741668"
      ]
     },
     "execution_count": 72,
     "metadata": {},
     "output_type": "execute_result"
    }
   ],
   "source": [
    "#To find a funciton... look at Log (n+1).\n",
    "expec = dot([log(n+1) for n = 0:N], pdf.(dist, support(dist)))"
   ]
  },
  {
   "cell_type": "code",
   "execution_count": 71,
   "metadata": {},
   "outputs": [
    {
     "data": {
      "text/html": [
       "1.7713388250096278"
      ],
      "text/plain": [
       "1.7713388250096278"
      ]
     },
     "execution_count": 71,
     "metadata": {},
     "output_type": "execute_result"
    }
   ],
   "source": [
    "expecrand = sum([log(n+1) for n in draws])/NSamples"
   ]
  },
  {
   "cell_type": "code",
   "execution_count": null,
   "metadata": {
    "collapsed": true
   },
   "outputs": [],
   "source": []
  }
 ],
 "metadata": {
  "kernelspec": {
   "display_name": "Julia 0.6.2",
   "language": "julia",
   "name": "julia-0.6"
  },
  "language_info": {
   "file_extension": ".jl",
   "mimetype": "application/julia",
   "name": "julia",
   "version": "0.6.2"
  }
 },
 "nbformat": 4,
 "nbformat_minor": 2
}

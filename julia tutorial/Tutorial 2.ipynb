{
 "cells": [
  {
   "cell_type": "markdown",
   "metadata": {},
   "source": [
    "# Julia Tutorial 2\n",
    "\n",
    "1. Stochastic Matrix:\n",
    "A Stochastic Matrix is an $n\\times n$ matrix that (1) each element is positive; (2) each row sums up to 1. One should think of the elements in Stochastic Matrix as probabilities.\n",
    "\n",
    "2. Markov Chain\n",
    "\n",
    "State space: $S=\\{s_{1},s_{2}...,s_{n}\\}$\n",
    "\n",
    "Markov Chain is a series of random variables that follows the Markov Property:\n",
    "\n",
    "$$P[X_{t+1}=s_{i}|X_{t}=s_{j},X_{t-1}=s_{k}...]=P[X_{t+1}=s_{i}|X_{t}=s_{j}]$$\n",
    "\n",
    "Namely, the conditional probability only depends on the state of last period, not on the entire state path.\n",
    "\n",
    "Now we can write the \"Transition Matrix\"(defined as $P$) of a Markov Chain, and it's easy to notice that the transition matrix is a stochastic matrix. For this specific Stochastic Matrix, the $jth$ element of first row is the conditional probability:\n",
    "\n",
    "$$P[X_{t+1}=s_{j}|X_{t}=s_{1}]$$\n",
    "\n",
    "Then it's straight forward that: the transition matrix starting from $X_{t}$ to $X_{t+s}$ is just $P^{s}$."
   ]
  },
  {
   "cell_type": "markdown",
   "metadata": {},
   "source": [
    "# Simulation of Markov Chain\n",
    "\n",
    "The `QuantEcon` package has a convenient way to simulate markov chain. To practice a bit we can write our own function for that as well:"
   ]
  },
  {
   "cell_type": "code",
   "execution_count": null,
   "metadata": {},
   "outputs": [],
   "source": [
    "using QuantEcon\n",
    "\n",
    "phi = [0.1, 0.9];        # Probabilities over sample space {1, 2}\n",
    "d = DiscreteRV(phi);\n",
    "rand(d, 5) "
   ]
  },
  {
   "cell_type": "code",
   "execution_count": 2,
   "metadata": {},
   "outputs": [
    {
     "data": {
      "text/plain": [
       "mc_sample_path (generic function with 1 method)"
      ]
     },
     "execution_count": 2,
     "metadata": {},
     "output_type": "execute_result"
    }
   ],
   "source": [
    "function mc_sample_path(P; init=1, sample_size=1000)\n",
    "    X = Array{Int64}(sample_size) # allocate memory\n",
    "    X[1] = init\n",
    "    # === convert each row of P into a distribution === #\n",
    "    n = size(P)[1]\n",
    "    P_dist = [DiscreteRV(vec(P[i,:])) for i in 1:n]\n",
    "\n",
    "    # === generate the sample path === #\n",
    "    for t in 1:(sample_size - 1)\n",
    "        X[t+1] = rand(P_dist[X[t]])\n",
    "    end\n",
    "    return X\n",
    "end"
   ]
  },
  {
   "cell_type": "code",
   "execution_count": null,
   "metadata": {},
   "outputs": [],
   "source": [
    "P = [0.4 0.6; 0.2 0.8]\n",
    "X = mc_sample_path(P, sample_size=100000);\n",
    "X[1:10]"
   ]
  },
  {
   "cell_type": "code",
   "execution_count": null,
   "metadata": {},
   "outputs": [],
   "source": [
    "    n = size(P)[1]\n",
    "    P_dist = [DiscreteRV(vec(P[i,:])) for i in 1:n]"
   ]
  },
  {
   "cell_type": "markdown",
   "metadata": {},
   "source": [
    "To use the built in function in `QuantEcon` package,"
   ]
  },
  {
   "cell_type": "code",
   "execution_count": null,
   "metadata": {},
   "outputs": [],
   "source": [
    "P = [0.4 0.6; 0.2 0.8];\n",
    "mc = MarkovChain(P)\n",
    "X = simulate(mc, 100000);\n",
    "mean(X .== 1)"
   ]
  },
  {
   "cell_type": "markdown",
   "metadata": {},
   "source": [
    "You can also specify initial conditions and name of the states"
   ]
  },
  {
   "cell_type": "code",
   "execution_count": 15,
   "metadata": {},
   "outputs": [
    {
     "data": {
      "text/html": [
       "0.74894"
      ],
      "text/plain": [
       "0.74894"
      ]
     },
     "execution_count": 15,
     "metadata": {},
     "output_type": "execute_result"
    }
   ],
   "source": [
    "mc = MarkovChain(P, [\"unemployed\", \"employed\"])\n",
    "simulate(mc, 4, init=1) \n",
    "mean(simulate(mc, 100000).==\"employed\")"
   ]
  },
  {
   "cell_type": "code",
   "execution_count": null,
   "metadata": {},
   "outputs": [],
   "source": [
    "using Distributions\n",
    "using Plots\n",
    "mc = MarkovChain(P)\n",
    "histogram(simulate(mc,10000))"
   ]
  },
  {
   "cell_type": "code",
   "execution_count": null,
   "metadata": {},
   "outputs": [],
   "source": []
  }
 ],
 "metadata": {
  "kernelspec": {
   "display_name": "Julia 0.6.2",
   "language": "julia",
   "name": "julia-0.6"
  },
  "language_info": {
   "file_extension": ".jl",
   "mimetype": "application/julia",
   "name": "julia",
   "version": "0.6.2"
  }
 },
 "nbformat": 4,
 "nbformat_minor": 2
}
